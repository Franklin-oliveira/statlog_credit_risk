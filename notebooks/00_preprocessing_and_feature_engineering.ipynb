{
 "cells": [
  {
   "cell_type": "markdown",
   "id": "d3bfa638",
   "metadata": {},
   "source": [
    "# Pré-processamento"
   ]
  },
  {
   "cell_type": "code",
   "execution_count": 1,
   "id": "84881b83",
   "metadata": {
    "ExecuteTime": {
     "end_time": "2021-07-28T21:53:05.084032Z",
     "start_time": "2021-07-28T21:53:04.483666Z"
    }
   },
   "outputs": [],
   "source": [
    "import pickle\n",
    "import swifter\n",
    "import numpy as np\n",
    "import pandas as pd\n",
    "\n",
    "from pathlib import Path"
   ]
  },
  {
   "cell_type": "markdown",
   "id": "d9098146",
   "metadata": {},
   "source": [
    "## importando dados\n",
    "\n",
    "Arquivo: `../data/german.data`"
   ]
  },
  {
   "cell_type": "code",
   "execution_count": 2,
   "id": "a052998e",
   "metadata": {
    "ExecuteTime": {
     "end_time": "2021-07-28T21:53:05.088283Z",
     "start_time": "2021-07-28T21:53:05.085786Z"
    }
   },
   "outputs": [],
   "source": [
    "datapath = Path('../data')  # defining absolute path to database (it's meant to work across different OS)"
   ]
  },
  {
   "cell_type": "code",
   "execution_count": 3,
   "id": "091207f9",
   "metadata": {
    "ExecuteTime": {
     "end_time": "2021-07-28T21:53:05.224663Z",
     "start_time": "2021-07-28T21:53:05.090393Z"
    }
   },
   "outputs": [
    {
     "data": {
      "text/html": [
       "<div>\n",
       "<style scoped>\n",
       "    .dataframe tbody tr th:only-of-type {\n",
       "        vertical-align: middle;\n",
       "    }\n",
       "\n",
       "    .dataframe tbody tr th {\n",
       "        vertical-align: top;\n",
       "    }\n",
       "\n",
       "    .dataframe thead th {\n",
       "        text-align: right;\n",
       "    }\n",
       "</style>\n",
       "<table border=\"1\" class=\"dataframe\">\n",
       "  <thead>\n",
       "    <tr style=\"text-align: right;\">\n",
       "      <th></th>\n",
       "      <th>0</th>\n",
       "      <th>1</th>\n",
       "      <th>2</th>\n",
       "      <th>3</th>\n",
       "      <th>4</th>\n",
       "      <th>5</th>\n",
       "      <th>6</th>\n",
       "      <th>7</th>\n",
       "      <th>8</th>\n",
       "      <th>9</th>\n",
       "      <th>...</th>\n",
       "      <th>11</th>\n",
       "      <th>12</th>\n",
       "      <th>13</th>\n",
       "      <th>14</th>\n",
       "      <th>15</th>\n",
       "      <th>16</th>\n",
       "      <th>17</th>\n",
       "      <th>18</th>\n",
       "      <th>19</th>\n",
       "      <th>20</th>\n",
       "    </tr>\n",
       "  </thead>\n",
       "  <tbody>\n",
       "    <tr>\n",
       "      <th>0</th>\n",
       "      <td>A11</td>\n",
       "      <td>6</td>\n",
       "      <td>A34</td>\n",
       "      <td>A43</td>\n",
       "      <td>1169</td>\n",
       "      <td>A65</td>\n",
       "      <td>A75</td>\n",
       "      <td>4</td>\n",
       "      <td>A93</td>\n",
       "      <td>A101</td>\n",
       "      <td>...</td>\n",
       "      <td>A121</td>\n",
       "      <td>67</td>\n",
       "      <td>A143</td>\n",
       "      <td>A152</td>\n",
       "      <td>2</td>\n",
       "      <td>A173</td>\n",
       "      <td>1</td>\n",
       "      <td>A192</td>\n",
       "      <td>A201</td>\n",
       "      <td>1</td>\n",
       "    </tr>\n",
       "    <tr>\n",
       "      <th>1</th>\n",
       "      <td>A12</td>\n",
       "      <td>48</td>\n",
       "      <td>A32</td>\n",
       "      <td>A43</td>\n",
       "      <td>5951</td>\n",
       "      <td>A61</td>\n",
       "      <td>A73</td>\n",
       "      <td>2</td>\n",
       "      <td>A92</td>\n",
       "      <td>A101</td>\n",
       "      <td>...</td>\n",
       "      <td>A121</td>\n",
       "      <td>22</td>\n",
       "      <td>A143</td>\n",
       "      <td>A152</td>\n",
       "      <td>1</td>\n",
       "      <td>A173</td>\n",
       "      <td>1</td>\n",
       "      <td>A191</td>\n",
       "      <td>A201</td>\n",
       "      <td>2</td>\n",
       "    </tr>\n",
       "    <tr>\n",
       "      <th>2</th>\n",
       "      <td>A14</td>\n",
       "      <td>12</td>\n",
       "      <td>A34</td>\n",
       "      <td>A46</td>\n",
       "      <td>2096</td>\n",
       "      <td>A61</td>\n",
       "      <td>A74</td>\n",
       "      <td>2</td>\n",
       "      <td>A93</td>\n",
       "      <td>A101</td>\n",
       "      <td>...</td>\n",
       "      <td>A121</td>\n",
       "      <td>49</td>\n",
       "      <td>A143</td>\n",
       "      <td>A152</td>\n",
       "      <td>1</td>\n",
       "      <td>A172</td>\n",
       "      <td>2</td>\n",
       "      <td>A191</td>\n",
       "      <td>A201</td>\n",
       "      <td>1</td>\n",
       "    </tr>\n",
       "    <tr>\n",
       "      <th>3</th>\n",
       "      <td>A11</td>\n",
       "      <td>42</td>\n",
       "      <td>A32</td>\n",
       "      <td>A42</td>\n",
       "      <td>7882</td>\n",
       "      <td>A61</td>\n",
       "      <td>A74</td>\n",
       "      <td>2</td>\n",
       "      <td>A93</td>\n",
       "      <td>A103</td>\n",
       "      <td>...</td>\n",
       "      <td>A122</td>\n",
       "      <td>45</td>\n",
       "      <td>A143</td>\n",
       "      <td>A153</td>\n",
       "      <td>1</td>\n",
       "      <td>A173</td>\n",
       "      <td>2</td>\n",
       "      <td>A191</td>\n",
       "      <td>A201</td>\n",
       "      <td>1</td>\n",
       "    </tr>\n",
       "    <tr>\n",
       "      <th>4</th>\n",
       "      <td>A11</td>\n",
       "      <td>24</td>\n",
       "      <td>A33</td>\n",
       "      <td>A40</td>\n",
       "      <td>4870</td>\n",
       "      <td>A61</td>\n",
       "      <td>A73</td>\n",
       "      <td>3</td>\n",
       "      <td>A93</td>\n",
       "      <td>A101</td>\n",
       "      <td>...</td>\n",
       "      <td>A124</td>\n",
       "      <td>53</td>\n",
       "      <td>A143</td>\n",
       "      <td>A153</td>\n",
       "      <td>2</td>\n",
       "      <td>A173</td>\n",
       "      <td>2</td>\n",
       "      <td>A191</td>\n",
       "      <td>A201</td>\n",
       "      <td>2</td>\n",
       "    </tr>\n",
       "  </tbody>\n",
       "</table>\n",
       "<p>5 rows × 21 columns</p>\n",
       "</div>"
      ],
      "text/plain": [
       "    0   1    2    3     4    5    6   7    8     9   ...    11  12    13  \\\n",
       "0  A11   6  A34  A43  1169  A65  A75   4  A93  A101  ...  A121  67  A143   \n",
       "1  A12  48  A32  A43  5951  A61  A73   2  A92  A101  ...  A121  22  A143   \n",
       "2  A14  12  A34  A46  2096  A61  A74   2  A93  A101  ...  A121  49  A143   \n",
       "3  A11  42  A32  A42  7882  A61  A74   2  A93  A103  ...  A122  45  A143   \n",
       "4  A11  24  A33  A40  4870  A61  A73   3  A93  A101  ...  A124  53  A143   \n",
       "\n",
       "     14 15    16 17    18    19 20  \n",
       "0  A152  2  A173  1  A192  A201  1  \n",
       "1  A152  1  A173  1  A191  A201  2  \n",
       "2  A152  1  A172  2  A191  A201  1  \n",
       "3  A153  1  A173  2  A191  A201  1  \n",
       "4  A153  2  A173  2  A191  A201  2  \n",
       "\n",
       "[5 rows x 21 columns]"
      ]
     },
     "execution_count": 3,
     "metadata": {},
     "output_type": "execute_result"
    }
   ],
   "source": [
    "data = pd.read_table(f'{datapath}/german.data', sep=' ', header=None)\n",
    "\n",
    "# opcional: import diretamente do repositório UCL\n",
    "#data = pd.read_table('https://archive.ics.uci.edu/ml/machine-learning-databases/statlog/german/german.data', \n",
    "#                     sep=' ', header=None)\n",
    "\n",
    "data.head()"
   ]
  },
  {
   "cell_type": "markdown",
   "id": "71c21ec2",
   "metadata": {},
   "source": [
    "### conferindo dimensões do dataset"
   ]
  },
  {
   "cell_type": "code",
   "execution_count": 4,
   "id": "0fae6eff",
   "metadata": {
    "ExecuteTime": {
     "end_time": "2021-07-28T21:53:05.232857Z",
     "start_time": "2021-07-28T21:53:05.226465Z"
    }
   },
   "outputs": [],
   "source": [
    "assert data.shape[0] == 1000, 'o dataset não contém o número correto de registros. Esperado: 1000 linhas'\n",
    "assert data.shape[1] == 21, 'o dataset não contém o número correto de colunas. Esperado: 20 features + resposta'"
   ]
  },
  {
   "cell_type": "markdown",
   "id": "bc3f7bcf",
   "metadata": {
    "ExecuteTime": {
     "end_time": "2021-07-27T22:33:13.015972Z",
     "start_time": "2021-07-27T22:33:12.961297Z"
    }
   },
   "source": [
    "## nomeando colunas"
   ]
  },
  {
   "cell_type": "code",
   "execution_count": 5,
   "id": "90f45a3c",
   "metadata": {
    "ExecuteTime": {
     "end_time": "2021-07-28T21:53:05.278373Z",
     "start_time": "2021-07-28T21:53:05.234373Z"
    }
   },
   "outputs": [],
   "source": [
    "col_names = [\n",
    "    'status_check_acc',\n",
    "    'duration',\n",
    "    'cred_history',\n",
    "    'purpose',\n",
    "    'cred_amount',\n",
    "    'savings',\n",
    "    'employment_since',\n",
    "    'installment',\n",
    "    'status_sex',\n",
    "    'other_deb',\n",
    "    'resid_since',\n",
    "    'property',\n",
    "    'age',\n",
    "    'other_installment',\n",
    "    'housing',\n",
    "    'n_creds',\n",
    "    'job',\n",
    "    'n_liable_people',\n",
    "    'tel',\n",
    "    'foreign',\n",
    "    'cred_score'   # Y variable (1 = Good, 2 = Bad)\n",
    "]"
   ]
  },
  {
   "cell_type": "code",
   "execution_count": 6,
   "id": "df488fd4",
   "metadata": {
    "ExecuteTime": {
     "end_time": "2021-07-28T21:53:05.346284Z",
     "start_time": "2021-07-28T21:53:05.280128Z"
    }
   },
   "outputs": [],
   "source": [
    "data.columns = col_names"
   ]
  },
  {
   "cell_type": "markdown",
   "id": "5dd69d4f",
   "metadata": {},
   "source": [
    "## conferindo dtypes"
   ]
  },
  {
   "cell_type": "code",
   "execution_count": 7,
   "id": "0d4cf0b1",
   "metadata": {
    "ExecuteTime": {
     "end_time": "2021-07-28T21:53:05.394884Z",
     "start_time": "2021-07-28T21:53:05.347957Z"
    }
   },
   "outputs": [
    {
     "data": {
      "text/plain": [
       "status_check_acc     object\n",
       "duration              int64\n",
       "cred_history         object\n",
       "purpose              object\n",
       "cred_amount           int64\n",
       "savings              object\n",
       "employment_since     object\n",
       "installment           int64\n",
       "status_sex           object\n",
       "other_deb            object\n",
       "resid_since           int64\n",
       "property             object\n",
       "age                   int64\n",
       "other_installment    object\n",
       "housing              object\n",
       "n_creds               int64\n",
       "job                  object\n",
       "n_liable_people       int64\n",
       "tel                  object\n",
       "foreign              object\n",
       "cred_score            int64\n",
       "dtype: object"
      ]
     },
     "execution_count": 7,
     "metadata": {},
     "output_type": "execute_result"
    }
   ],
   "source": [
    "data.dtypes"
   ]
  },
  {
   "cell_type": "markdown",
   "id": "fdaa4082",
   "metadata": {},
   "source": [
    "As colunas numéricas foram corretamente identificadas como `int`. No entanto, as colunas de tipo `object` precisam ser convertidas para `category` a fim de otimizar seu tempo de processamento (formato mais otimizado pelo pandas para variáveis categóricas).\n",
    "\n",
    "**obs:** também vamos converter o formato da coluna cred_score por se tratar de uma categoria."
   ]
  },
  {
   "cell_type": "code",
   "execution_count": 8,
   "id": "7e42f460",
   "metadata": {
    "ExecuteTime": {
     "end_time": "2021-07-28T21:53:05.455753Z",
     "start_time": "2021-07-28T21:53:05.397476Z"
    }
   },
   "outputs": [
    {
     "data": {
      "text/plain": [
       "status_check_acc     category\n",
       "duration                int64\n",
       "cred_history         category\n",
       "purpose              category\n",
       "cred_amount             int64\n",
       "savings              category\n",
       "employment_since     category\n",
       "installment             int64\n",
       "status_sex           category\n",
       "other_deb            category\n",
       "resid_since             int64\n",
       "property             category\n",
       "age                     int64\n",
       "other_installment    category\n",
       "housing              category\n",
       "n_creds                 int64\n",
       "job                  category\n",
       "n_liable_people         int64\n",
       "tel                  category\n",
       "foreign              category\n",
       "cred_score           category\n",
       "dtype: object"
      ]
     },
     "execution_count": 8,
     "metadata": {},
     "output_type": "execute_result"
    }
   ],
   "source": [
    "for col in data.columns:\n",
    "    if data[col].dtype == 'object' or col == 'cred_score':\n",
    "        data[col] = data[col].astype('category')\n",
    "        \n",
    "data.dtypes"
   ]
  },
  {
   "cell_type": "markdown",
   "id": "6037c629",
   "metadata": {},
   "source": [
    "## conferindo *missing values*"
   ]
  },
  {
   "cell_type": "code",
   "execution_count": 9,
   "id": "ead1d1ee",
   "metadata": {
    "ExecuteTime": {
     "end_time": "2021-07-28T21:53:05.488541Z",
     "start_time": "2021-07-28T21:53:05.457830Z"
    }
   },
   "outputs": [],
   "source": [
    "missing_vals = data.isna().sum().reset_index().rename(columns={'index':'feature', 0:'n_missing'})\n",
    "\n",
    "for idx, row in missing_vals.iterrows():\n",
    "    if row['n_missing'] > 0:\n",
    "        print(f'Warning: há {row.n_missing} valores faltantes na coluna {row.feature}.')"
   ]
  },
  {
   "cell_type": "markdown",
   "id": "c26e52fd",
   "metadata": {},
   "source": [
    "**OBS:** Não foram identificados valores faltantes. Caso houvesse *missing data*, poderíamos adotar uma estratégia de imputação usando, por exemplo, algoritmos KNN ou Naive Bayes para variáveis categóricas. Variáveis numéricas, se possível, poderiam ter seus valores recuperados pela média ou mediana, por exemplo."
   ]
  },
  {
   "cell_type": "markdown",
   "id": "6036a520",
   "metadata": {},
   "source": [
    "## Feature Engineering\n",
    "\n",
    "Vamos começar transformando a variável resposta em binária para facilitar seu uso e interpretação nos modelos de classificação. Relembrando, a variável resposta `cred_score` está definida como:\n",
    "\n",
    "```bash\n",
    "    1 = bom,\n",
    "    2 = ruim\n",
    "```\n",
    "\n",
    "Sua versão binária será uma variável indicadora, assumindo o valor 1 se um dado indivíduo apresenta score de crédito ruim, e 0 caso contrário. Dessa forma, \n",
    "\n",
    "```bash\n",
    "    0 = bom,\n",
    "    1 = ruim\n",
    "```"
   ]
  },
  {
   "cell_type": "code",
   "execution_count": 10,
   "id": "aeeb6733",
   "metadata": {
    "ExecuteTime": {
     "end_time": "2021-07-28T21:53:05.535783Z",
     "start_time": "2021-07-28T21:53:05.490350Z"
    }
   },
   "outputs": [],
   "source": [
    "data['cred_score'] = data['cred_score'].astype(int) - 1\n",
    "data['cred_score'] = data['cred_score'].astype('category')"
   ]
  },
  {
   "cell_type": "markdown",
   "id": "f262f50b",
   "metadata": {},
   "source": [
    "Em seguida, vamos tratar as demais variáveis categóricas que estão codificadas. \n",
    "\n",
    "<br>\n",
    "\n",
    "### status_check_acc\n",
    "\n",
    "representa o status de uma conta corrente existente"
   ]
  },
  {
   "cell_type": "code",
   "execution_count": 11,
   "id": "e0fb3527",
   "metadata": {
    "ExecuteTime": {
     "end_time": "2021-07-28T21:53:05.584088Z",
     "start_time": "2021-07-28T21:53:05.539708Z"
    }
   },
   "outputs": [],
   "source": [
    "status_acc_codes = {\n",
    "    'A11' : '0 DM',\n",
    "    'A12' : '<200 DM',\n",
    "    'A13' : '>=200 DM',\n",
    "    'A14' : 'None'\n",
    "}"
   ]
  },
  {
   "cell_type": "code",
   "execution_count": 12,
   "id": "cb4e002b",
   "metadata": {
    "ExecuteTime": {
     "end_time": "2021-07-28T21:53:05.704334Z",
     "start_time": "2021-07-28T21:53:05.585638Z"
    }
   },
   "outputs": [
    {
     "data": {
      "application/vnd.jupyter.widget-view+json": {
       "model_id": "afc88ecc0559417683d121ee0f485dba",
       "version_major": 2,
       "version_minor": 0
      },
      "text/plain": [
       "Pandas Apply:   0%|          | 0/1000 [00:00<?, ?it/s]"
      ]
     },
     "metadata": {},
     "output_type": "display_data"
    }
   ],
   "source": [
    "# decodificando coluna, acelerando com swifter\n",
    "data['status_check_acc'] = data['status_check_acc'].swifter.apply(lambda x: status_acc_codes[x])"
   ]
  },
  {
   "cell_type": "markdown",
   "id": "76b137da",
   "metadata": {},
   "source": [
    "**OBS:** a biblioteca `swifter` paraleliza aplicações do apply, o que pode ser muito útil para acelerar o uso do apply em grandes datasets.\n",
    "\n",
    "<br>\n",
    "\n",
    "### cred_history\n",
    "\n",
    "histórico de crédito"
   ]
  },
  {
   "cell_type": "code",
   "execution_count": 13,
   "id": "f3fea48c",
   "metadata": {
    "ExecuteTime": {
     "end_time": "2021-07-28T21:53:05.733529Z",
     "start_time": "2021-07-28T21:53:05.706251Z"
    }
   },
   "outputs": [],
   "source": [
    "cred_hist_codes = {\n",
    "    'A30' : 'not taken/paid duly',\n",
    "    'A31' : 'all paid (this bank)',\n",
    "    'A32' : 'all paid',\n",
    "    'A33' : 'delayed',\n",
    "    'A34' : 'critical'\n",
    "}"
   ]
  },
  {
   "cell_type": "code",
   "execution_count": 14,
   "id": "a2ec0b5a",
   "metadata": {
    "ExecuteTime": {
     "end_time": "2021-07-28T21:53:05.819560Z",
     "start_time": "2021-07-28T21:53:05.735863Z"
    }
   },
   "outputs": [
    {
     "data": {
      "application/vnd.jupyter.widget-view+json": {
       "model_id": "00dbb88dcc5b4c6287544bb2c5965b4c",
       "version_major": 2,
       "version_minor": 0
      },
      "text/plain": [
       "Pandas Apply:   0%|          | 0/1000 [00:00<?, ?it/s]"
      ]
     },
     "metadata": {},
     "output_type": "display_data"
    }
   ],
   "source": [
    "data['cred_history'] = data['cred_history'].swifter.apply(lambda x: cred_hist_codes[x]).value_counts()"
   ]
  },
  {
   "cell_type": "markdown",
   "id": "7aa62d69",
   "metadata": {},
   "source": [
    "### Purpose\n",
    "\n",
    "Motivo da solicitação de crédito"
   ]
  },
  {
   "cell_type": "code",
   "execution_count": 15,
   "id": "a5b2bef3",
   "metadata": {
    "ExecuteTime": {
     "end_time": "2021-07-28T21:53:05.846124Z",
     "start_time": "2021-07-28T21:53:05.821040Z"
    }
   },
   "outputs": [],
   "source": [
    "purpose_codes = {\n",
    "    'A40' : 'car (new)',\n",
    "    'A41' : 'car (used)',\n",
    "    'A42' : 'furniture/equipment',\n",
    "    'A43' : 'radio/television',\n",
    "    'A44' : 'domestic appliances',\n",
    "    'A45' : 'repairs',\n",
    "    'A46' : 'education',\n",
    "    'A47' : 'vacation',\n",
    "    'A48' : 'retraining',\n",
    "    'A49' : 'business',\n",
    "    'A410' : 'others'\n",
    "}"
   ]
  },
  {
   "cell_type": "code",
   "execution_count": 16,
   "id": "79686c68",
   "metadata": {
    "ExecuteTime": {
     "end_time": "2021-07-28T21:53:05.923973Z",
     "start_time": "2021-07-28T21:53:05.847431Z"
    }
   },
   "outputs": [
    {
     "data": {
      "application/vnd.jupyter.widget-view+json": {
       "model_id": "7ad4784a36184b82af47489fc01b6553",
       "version_major": 2,
       "version_minor": 0
      },
      "text/plain": [
       "Pandas Apply:   0%|          | 0/1000 [00:00<?, ?it/s]"
      ]
     },
     "metadata": {},
     "output_type": "display_data"
    }
   ],
   "source": [
    "data['purpose'] = data['purpose'].swifter.apply(lambda x: purpose_codes[x])"
   ]
  },
  {
   "cell_type": "markdown",
   "id": "6ceac657",
   "metadata": {},
   "source": [
    "### savings\n",
    "\n",
    "Quantia presente em conta poupança / títulos públicos"
   ]
  },
  {
   "cell_type": "code",
   "execution_count": 17,
   "id": "d4a6c17f",
   "metadata": {
    "ExecuteTime": {
     "end_time": "2021-07-28T21:53:05.959870Z",
     "start_time": "2021-07-28T21:53:05.925776Z"
    }
   },
   "outputs": [],
   "source": [
    "savings_codes = {\n",
    "    'A61' :  '<100 DM',\n",
    "    'A62' :  '<500 DM',\n",
    "    'A63' :  '<1000 DM',\n",
    "    'A64' :  '>= 1000 DM',\n",
    "    'A65' :  'None'\n",
    "}"
   ]
  },
  {
   "cell_type": "code",
   "execution_count": 18,
   "id": "52ee9e78",
   "metadata": {
    "ExecuteTime": {
     "end_time": "2021-07-28T21:53:06.034414Z",
     "start_time": "2021-07-28T21:53:05.961564Z"
    }
   },
   "outputs": [
    {
     "data": {
      "application/vnd.jupyter.widget-view+json": {
       "model_id": "463f0b2cf5a24098a0608c325adc9542",
       "version_major": 2,
       "version_minor": 0
      },
      "text/plain": [
       "Pandas Apply:   0%|          | 0/1000 [00:00<?, ?it/s]"
      ]
     },
     "metadata": {},
     "output_type": "display_data"
    }
   ],
   "source": [
    "data['savings'] = data['savings'].swifter.apply(lambda x: savings_codes[x])"
   ]
  },
  {
   "cell_type": "markdown",
   "id": "6d2c854e",
   "metadata": {},
   "source": [
    "### employment_since\n",
    "\n",
    "Tempo de permanência no emprego atual"
   ]
  },
  {
   "cell_type": "code",
   "execution_count": 19,
   "id": "11bad53b",
   "metadata": {
    "ExecuteTime": {
     "end_time": "2021-07-28T21:53:06.050243Z",
     "start_time": "2021-07-28T21:53:06.035934Z"
    }
   },
   "outputs": [],
   "source": [
    "employment_codes = {\n",
    "    'A71' : 'unemployed',\n",
    "    'A72' : '< 1 year',\n",
    "    'A73' : '< 4 years',  \n",
    "    'A74' : '< 7 years',\n",
    "    'A75' : '>= 7 years'\n",
    "}"
   ]
  },
  {
   "cell_type": "code",
   "execution_count": 20,
   "id": "5c5c72ba",
   "metadata": {
    "ExecuteTime": {
     "end_time": "2021-07-28T21:53:06.123736Z",
     "start_time": "2021-07-28T21:53:06.051716Z"
    }
   },
   "outputs": [
    {
     "data": {
      "application/vnd.jupyter.widget-view+json": {
       "model_id": "69fb6a1d77c24ac5a97ba1ce3a9597e1",
       "version_major": 2,
       "version_minor": 0
      },
      "text/plain": [
       "Pandas Apply:   0%|          | 0/1000 [00:00<?, ?it/s]"
      ]
     },
     "metadata": {},
     "output_type": "display_data"
    }
   ],
   "source": [
    "data['employment_since'] = data['employment_since'].swifter.apply(lambda x: employment_codes[x])"
   ]
  },
  {
   "cell_type": "markdown",
   "id": "962a140f",
   "metadata": {},
   "source": [
    "### status_sex\n",
    "\n",
    "Vamos dividir essa coluna em duas: `social_status` e `gender`."
   ]
  },
  {
   "cell_type": "code",
   "execution_count": 21,
   "id": "6e05a498",
   "metadata": {
    "ExecuteTime": {
     "end_time": "2021-07-28T21:53:06.163594Z",
     "start_time": "2021-07-28T21:53:06.125288Z"
    }
   },
   "outputs": [],
   "source": [
    "gender_codes = {\n",
    "    'A91' : 'M', \n",
    "    'A92' : 'F', \n",
    "    'A93' : 'M',  \n",
    "    'A94' : 'M',   \n",
    "    'A95' : 'F',\n",
    "}\n",
    "\n",
    "social_status_codes = {\n",
    "    'A91' : 'divorced/separated',\n",
    "    'A92' : 'divorced/separated',  # obs: como essa classe é dominada pela anterior, vou mapear igualmente \n",
    "    'A93' : 'single',\n",
    "    'A94' : 'married/widowed',\n",
    "    'A95' : 'single',\n",
    "}"
   ]
  },
  {
   "cell_type": "code",
   "execution_count": 22,
   "id": "28bcd5bd",
   "metadata": {
    "ExecuteTime": {
     "end_time": "2021-07-28T21:53:06.268556Z",
     "start_time": "2021-07-28T21:53:06.165091Z"
    }
   },
   "outputs": [
    {
     "data": {
      "application/vnd.jupyter.widget-view+json": {
       "model_id": "fbb5924ac6164516a26c641327aca995",
       "version_major": 2,
       "version_minor": 0
      },
      "text/plain": [
       "Pandas Apply:   0%|          | 0/1000 [00:00<?, ?it/s]"
      ]
     },
     "metadata": {},
     "output_type": "display_data"
    },
    {
     "data": {
      "application/vnd.jupyter.widget-view+json": {
       "model_id": "774f5f1e117d4566beaf4f2cf31da67c",
       "version_major": 2,
       "version_minor": 0
      },
      "text/plain": [
       "Pandas Apply:   0%|          | 0/1000 [00:00<?, ?it/s]"
      ]
     },
     "metadata": {},
     "output_type": "display_data"
    }
   ],
   "source": [
    "data['gender'] = data['status_sex'].swifter.apply(lambda x: gender_codes[x])\n",
    "data['social_status'] = data['status_sex'].swifter.apply(lambda x: social_status_codes[x])"
   ]
  },
  {
   "cell_type": "code",
   "execution_count": 23,
   "id": "7350d6ec",
   "metadata": {
    "ExecuteTime": {
     "end_time": "2021-07-28T21:53:06.358426Z",
     "start_time": "2021-07-28T21:53:06.273012Z"
    }
   },
   "outputs": [],
   "source": [
    "# para evitar duplicidade, vamos remover a soluna status_sex\n",
    "data = data.drop('status_sex', axis=1)"
   ]
  },
  {
   "cell_type": "markdown",
   "id": "23e77644",
   "metadata": {},
   "source": [
    "### other_deb\n",
    "\n",
    "Essa variável informa se o cliente é garantidor / fiador de outra pessoa"
   ]
  },
  {
   "cell_type": "code",
   "execution_count": 24,
   "id": "0b6225fd",
   "metadata": {
    "ExecuteTime": {
     "end_time": "2021-07-28T21:53:06.402337Z",
     "start_time": "2021-07-28T21:53:06.364334Z"
    }
   },
   "outputs": [],
   "source": [
    "other_deb_codes = {\n",
    "    'A101' : 'None',\n",
    "    'A102' : 'co-applicant',\n",
    "    'A103' : 'guarantor'\n",
    "}"
   ]
  },
  {
   "cell_type": "code",
   "execution_count": 25,
   "id": "87814398",
   "metadata": {
    "ExecuteTime": {
     "end_time": "2021-07-28T21:53:06.491184Z",
     "start_time": "2021-07-28T21:53:06.404446Z"
    }
   },
   "outputs": [
    {
     "data": {
      "application/vnd.jupyter.widget-view+json": {
       "model_id": "3e0280d1e61841178d23593404e50705",
       "version_major": 2,
       "version_minor": 0
      },
      "text/plain": [
       "Pandas Apply:   0%|          | 0/1000 [00:00<?, ?it/s]"
      ]
     },
     "metadata": {},
     "output_type": "display_data"
    }
   ],
   "source": [
    "data['other_deb'] = data['other_deb'].swifter.apply(lambda x:other_deb_codes[x])"
   ]
  },
  {
   "cell_type": "markdown",
   "id": "a67959e8",
   "metadata": {},
   "source": [
    "### Property\n",
    "\n",
    "Bem dado como garantia!?"
   ]
  },
  {
   "cell_type": "code",
   "execution_count": 26,
   "id": "bb4e085a",
   "metadata": {
    "ExecuteTime": {
     "end_time": "2021-07-28T21:53:06.525847Z",
     "start_time": "2021-07-28T21:53:06.492506Z"
    }
   },
   "outputs": [],
   "source": [
    "property_codes = {\n",
    "    'A121' : 'real estate',\n",
    "    'A122' : 'savings/life insurance',\n",
    "    'A123' : 'car',\n",
    "    'A124' : 'unknown/none'\n",
    "}"
   ]
  },
  {
   "cell_type": "code",
   "execution_count": 27,
   "id": "2f17fdc5",
   "metadata": {
    "ExecuteTime": {
     "end_time": "2021-07-28T21:53:06.607616Z",
     "start_time": "2021-07-28T21:53:06.527522Z"
    }
   },
   "outputs": [
    {
     "data": {
      "application/vnd.jupyter.widget-view+json": {
       "model_id": "39800a9d0ce8436e99f0f0bb743d7d77",
       "version_major": 2,
       "version_minor": 0
      },
      "text/plain": [
       "Pandas Apply:   0%|          | 0/1000 [00:00<?, ?it/s]"
      ]
     },
     "metadata": {},
     "output_type": "display_data"
    }
   ],
   "source": [
    "data['property'] = data['property'].swifter.apply(lambda x: property_codes[x])"
   ]
  },
  {
   "cell_type": "markdown",
   "id": "7b2e246e",
   "metadata": {},
   "source": [
    "### other_installment\n",
    "\n",
    "outros planos de parcelamento!?"
   ]
  },
  {
   "cell_type": "code",
   "execution_count": 28,
   "id": "b6e8c48d",
   "metadata": {
    "ExecuteTime": {
     "end_time": "2021-07-28T21:53:06.616781Z",
     "start_time": "2021-07-28T21:53:06.609125Z"
    }
   },
   "outputs": [],
   "source": [
    "other_installment_codes = {\n",
    "    'A141' : 'bank',\n",
    "    'A142' : 'stores',\n",
    "    'A143' : 'none'\n",
    "}"
   ]
  },
  {
   "cell_type": "code",
   "execution_count": 29,
   "id": "376f0e3e",
   "metadata": {
    "ExecuteTime": {
     "end_time": "2021-07-28T21:53:06.696536Z",
     "start_time": "2021-07-28T21:53:06.618762Z"
    }
   },
   "outputs": [
    {
     "data": {
      "application/vnd.jupyter.widget-view+json": {
       "model_id": "cc6e467858f3404795b516156dc20c65",
       "version_major": 2,
       "version_minor": 0
      },
      "text/plain": [
       "Pandas Apply:   0%|          | 0/1000 [00:00<?, ?it/s]"
      ]
     },
     "metadata": {},
     "output_type": "display_data"
    }
   ],
   "source": [
    "data['other_installment'] = data['other_installment'].swifter.apply(lambda x:other_installment_codes[x])"
   ]
  },
  {
   "cell_type": "markdown",
   "id": "edb0fc89",
   "metadata": {},
   "source": [
    "### housing\n",
    "\n",
    "Tipo de residência"
   ]
  },
  {
   "cell_type": "code",
   "execution_count": 30,
   "id": "3ef961d5",
   "metadata": {
    "ExecuteTime": {
     "end_time": "2021-07-28T21:53:06.707451Z",
     "start_time": "2021-07-28T21:53:06.698199Z"
    }
   },
   "outputs": [],
   "source": [
    "housing_codes = {\n",
    "    'A151' : 'rent',\n",
    "    'A152' : 'own',\n",
    "    'A153' : 'free'\n",
    "}"
   ]
  },
  {
   "cell_type": "code",
   "execution_count": 31,
   "id": "a7a04ab8",
   "metadata": {
    "ExecuteTime": {
     "end_time": "2021-07-28T21:53:06.781663Z",
     "start_time": "2021-07-28T21:53:06.708972Z"
    }
   },
   "outputs": [
    {
     "data": {
      "application/vnd.jupyter.widget-view+json": {
       "model_id": "e6e3b32c741b40c4b6c717fa34cace9c",
       "version_major": 2,
       "version_minor": 0
      },
      "text/plain": [
       "Pandas Apply:   0%|          | 0/1000 [00:00<?, ?it/s]"
      ]
     },
     "metadata": {},
     "output_type": "display_data"
    }
   ],
   "source": [
    "data['housing'] = data['housing'].swifter.apply(lambda x: housing_codes[x])"
   ]
  },
  {
   "cell_type": "markdown",
   "id": "3a36a2eb",
   "metadata": {},
   "source": [
    "### jobs"
   ]
  },
  {
   "cell_type": "code",
   "execution_count": 32,
   "id": "35502840",
   "metadata": {
    "ExecuteTime": {
     "end_time": "2021-07-28T21:53:06.798305Z",
     "start_time": "2021-07-28T21:53:06.783283Z"
    }
   },
   "outputs": [],
   "source": [
    "jobs_codes = {\n",
    "    'A171' : 'unemployed/unskilled',  \n",
    "    'A172' : 'unskilled (resident)',\n",
    "    'A173' : 'skilled',\n",
    "    'A174' : 'executive/highly skilled'\n",
    "}"
   ]
  },
  {
   "cell_type": "code",
   "execution_count": 33,
   "id": "01c88247",
   "metadata": {
    "ExecuteTime": {
     "end_time": "2021-07-28T21:53:06.909478Z",
     "start_time": "2021-07-28T21:53:06.799959Z"
    }
   },
   "outputs": [
    {
     "data": {
      "application/vnd.jupyter.widget-view+json": {
       "model_id": "cb41891f30bd447eab7c7611b9fae684",
       "version_major": 2,
       "version_minor": 0
      },
      "text/plain": [
       "Pandas Apply:   0%|          | 0/1000 [00:00<?, ?it/s]"
      ]
     },
     "metadata": {},
     "output_type": "display_data"
    }
   ],
   "source": [
    "data['job'] = data['job'].swifter.apply(lambda x:jobs_codes[x])"
   ]
  },
  {
   "cell_type": "markdown",
   "id": "f7e37bc0",
   "metadata": {},
   "source": [
    "### Tel\n",
    "\n",
    "registered telephone number?"
   ]
  },
  {
   "cell_type": "code",
   "execution_count": 34,
   "id": "cc997530",
   "metadata": {
    "ExecuteTime": {
     "end_time": "2021-07-28T21:53:06.935972Z",
     "start_time": "2021-07-28T21:53:06.911846Z"
    }
   },
   "outputs": [],
   "source": [
    "tel_codes = {\n",
    "    'A191' : 'no',\n",
    "    'A192' : 'yes'\n",
    "}"
   ]
  },
  {
   "cell_type": "code",
   "execution_count": 35,
   "id": "2af113b4",
   "metadata": {
    "ExecuteTime": {
     "end_time": "2021-07-28T21:53:07.014794Z",
     "start_time": "2021-07-28T21:53:06.937560Z"
    }
   },
   "outputs": [
    {
     "data": {
      "application/vnd.jupyter.widget-view+json": {
       "model_id": "d7574ac77f77479c9112d9029402a6d8",
       "version_major": 2,
       "version_minor": 0
      },
      "text/plain": [
       "Pandas Apply:   0%|          | 0/1000 [00:00<?, ?it/s]"
      ]
     },
     "metadata": {},
     "output_type": "display_data"
    }
   ],
   "source": [
    "data['tel'] = data['tel'].swifter.apply(lambda x:tel_codes[x])"
   ]
  },
  {
   "cell_type": "markdown",
   "id": "a20f1975",
   "metadata": {},
   "source": [
    "### Foreign\n",
    "\n",
    "the client is a foreign worker?"
   ]
  },
  {
   "cell_type": "code",
   "execution_count": 36,
   "id": "e2f141ea",
   "metadata": {
    "ExecuteTime": {
     "end_time": "2021-07-28T21:53:07.050077Z",
     "start_time": "2021-07-28T21:53:07.017013Z"
    }
   },
   "outputs": [],
   "source": [
    "foreign_codes = {\n",
    "    'A201' : 'yes',\n",
    "    'A202' : 'no'\n",
    "}"
   ]
  },
  {
   "cell_type": "code",
   "execution_count": 37,
   "id": "13144ca5",
   "metadata": {
    "ExecuteTime": {
     "end_time": "2021-07-28T21:53:07.135427Z",
     "start_time": "2021-07-28T21:53:07.053010Z"
    }
   },
   "outputs": [
    {
     "data": {
      "application/vnd.jupyter.widget-view+json": {
       "model_id": "d5fc6adf17b540169996bc4d36200eb1",
       "version_major": 2,
       "version_minor": 0
      },
      "text/plain": [
       "Pandas Apply:   0%|          | 0/1000 [00:00<?, ?it/s]"
      ]
     },
     "metadata": {},
     "output_type": "display_data"
    }
   ],
   "source": [
    "data['foreign'] = data['foreign'].swifter.apply(lambda x: foreign_codes[x])"
   ]
  },
  {
   "cell_type": "markdown",
   "id": "8d871842",
   "metadata": {},
   "source": [
    "## exportando a base de dados\n",
    "\n",
    "Por fins de organização, vou exportar a base de dados em um pickle para uso em outros notebooks."
   ]
  },
  {
   "cell_type": "code",
   "execution_count": 38,
   "id": "8a5d8081",
   "metadata": {
    "ExecuteTime": {
     "end_time": "2021-07-28T21:53:07.163540Z",
     "start_time": "2021-07-28T21:53:07.137512Z"
    }
   },
   "outputs": [],
   "source": [
    "with open(f'{datapath}/data.pickle', 'wb') as file:\n",
    "    pickle.dump(data, file)"
   ]
  },
  {
   "cell_type": "markdown",
   "id": "f7e87aab",
   "metadata": {},
   "source": [
    "**Fim!**\n",
    "\n",
    "<font color='red'>Confira os demais notebooks para visualizar análises descritivas/preditivas.</font>"
   ]
  }
 ],
 "metadata": {
  "kernelspec": {
   "display_name": "Python 3",
   "language": "python",
   "name": "python3"
  },
  "language_info": {
   "codemirror_mode": {
    "name": "ipython",
    "version": 3
   },
   "file_extension": ".py",
   "mimetype": "text/x-python",
   "name": "python",
   "nbconvert_exporter": "python",
   "pygments_lexer": "ipython3",
   "version": "3.9.5"
  },
  "toc": {
   "base_numbering": 1,
   "nav_menu": {},
   "number_sections": true,
   "sideBar": true,
   "skip_h1_title": false,
   "title_cell": "Table of Contents",
   "title_sidebar": "Contents",
   "toc_cell": false,
   "toc_position": {},
   "toc_section_display": true,
   "toc_window_display": false
  },
  "varInspector": {
   "cols": {
    "lenName": 16,
    "lenType": 16,
    "lenVar": 40
   },
   "kernels_config": {
    "python": {
     "delete_cmd_postfix": "",
     "delete_cmd_prefix": "del ",
     "library": "var_list.py",
     "varRefreshCmd": "print(var_dic_list())"
    },
    "r": {
     "delete_cmd_postfix": ") ",
     "delete_cmd_prefix": "rm(",
     "library": "var_list.r",
     "varRefreshCmd": "cat(var_dic_list()) "
    }
   },
   "types_to_exclude": [
    "module",
    "function",
    "builtin_function_or_method",
    "instance",
    "_Feature"
   ],
   "window_display": false
  }
 },
 "nbformat": 4,
 "nbformat_minor": 5
}
