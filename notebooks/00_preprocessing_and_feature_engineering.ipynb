{
 "cells": [
  {
   "cell_type": "markdown",
   "id": "d3bfa638",
   "metadata": {},
   "source": [
    "# Pré-processamento"
   ]
  },
  {
   "cell_type": "code",
   "execution_count": 41,
   "id": "84881b83",
   "metadata": {
    "ExecuteTime": {
     "end_time": "2021-07-29T00:22:06.971234Z",
     "start_time": "2021-07-29T00:22:06.967356Z"
    }
   },
   "outputs": [],
   "source": [
    "import pickle\n",
    "import swifter\n",
    "import numpy as np\n",
    "import pandas as pd\n",
    "\n",
    "from pathlib import Path"
   ]
  },
  {
   "cell_type": "markdown",
   "id": "d9098146",
   "metadata": {},
   "source": [
    "## importando dados\n",
    "\n",
    "Arquivo: `../data/german.data`"
   ]
  },
  {
   "cell_type": "code",
   "execution_count": 42,
   "id": "a052998e",
   "metadata": {
    "ExecuteTime": {
     "end_time": "2021-07-29T00:22:07.041748Z",
     "start_time": "2021-07-29T00:22:06.976250Z"
    }
   },
   "outputs": [],
   "source": [
    "datapath = Path('../data')  # defining absolute path to database (it's meant to work across different OS)"
   ]
  },
  {
   "cell_type": "code",
   "execution_count": 43,
   "id": "091207f9",
   "metadata": {
    "ExecuteTime": {
     "end_time": "2021-07-29T00:22:07.136127Z",
     "start_time": "2021-07-29T00:22:07.043440Z"
    }
   },
   "outputs": [
    {
     "data": {
      "text/html": [
       "<div>\n",
       "<style scoped>\n",
       "    .dataframe tbody tr th:only-of-type {\n",
       "        vertical-align: middle;\n",
       "    }\n",
       "\n",
       "    .dataframe tbody tr th {\n",
       "        vertical-align: top;\n",
       "    }\n",
       "\n",
       "    .dataframe thead th {\n",
       "        text-align: right;\n",
       "    }\n",
       "</style>\n",
       "<table border=\"1\" class=\"dataframe\">\n",
       "  <thead>\n",
       "    <tr style=\"text-align: right;\">\n",
       "      <th></th>\n",
       "      <th>0</th>\n",
       "      <th>1</th>\n",
       "      <th>2</th>\n",
       "      <th>3</th>\n",
       "      <th>4</th>\n",
       "      <th>5</th>\n",
       "      <th>6</th>\n",
       "      <th>7</th>\n",
       "      <th>8</th>\n",
       "      <th>9</th>\n",
       "      <th>...</th>\n",
       "      <th>11</th>\n",
       "      <th>12</th>\n",
       "      <th>13</th>\n",
       "      <th>14</th>\n",
       "      <th>15</th>\n",
       "      <th>16</th>\n",
       "      <th>17</th>\n",
       "      <th>18</th>\n",
       "      <th>19</th>\n",
       "      <th>20</th>\n",
       "    </tr>\n",
       "  </thead>\n",
       "  <tbody>\n",
       "    <tr>\n",
       "      <th>0</th>\n",
       "      <td>A11</td>\n",
       "      <td>6</td>\n",
       "      <td>A34</td>\n",
       "      <td>A43</td>\n",
       "      <td>1169</td>\n",
       "      <td>A65</td>\n",
       "      <td>A75</td>\n",
       "      <td>4</td>\n",
       "      <td>A93</td>\n",
       "      <td>A101</td>\n",
       "      <td>...</td>\n",
       "      <td>A121</td>\n",
       "      <td>67</td>\n",
       "      <td>A143</td>\n",
       "      <td>A152</td>\n",
       "      <td>2</td>\n",
       "      <td>A173</td>\n",
       "      <td>1</td>\n",
       "      <td>A192</td>\n",
       "      <td>A201</td>\n",
       "      <td>1</td>\n",
       "    </tr>\n",
       "    <tr>\n",
       "      <th>1</th>\n",
       "      <td>A12</td>\n",
       "      <td>48</td>\n",
       "      <td>A32</td>\n",
       "      <td>A43</td>\n",
       "      <td>5951</td>\n",
       "      <td>A61</td>\n",
       "      <td>A73</td>\n",
       "      <td>2</td>\n",
       "      <td>A92</td>\n",
       "      <td>A101</td>\n",
       "      <td>...</td>\n",
       "      <td>A121</td>\n",
       "      <td>22</td>\n",
       "      <td>A143</td>\n",
       "      <td>A152</td>\n",
       "      <td>1</td>\n",
       "      <td>A173</td>\n",
       "      <td>1</td>\n",
       "      <td>A191</td>\n",
       "      <td>A201</td>\n",
       "      <td>2</td>\n",
       "    </tr>\n",
       "    <tr>\n",
       "      <th>2</th>\n",
       "      <td>A14</td>\n",
       "      <td>12</td>\n",
       "      <td>A34</td>\n",
       "      <td>A46</td>\n",
       "      <td>2096</td>\n",
       "      <td>A61</td>\n",
       "      <td>A74</td>\n",
       "      <td>2</td>\n",
       "      <td>A93</td>\n",
       "      <td>A101</td>\n",
       "      <td>...</td>\n",
       "      <td>A121</td>\n",
       "      <td>49</td>\n",
       "      <td>A143</td>\n",
       "      <td>A152</td>\n",
       "      <td>1</td>\n",
       "      <td>A172</td>\n",
       "      <td>2</td>\n",
       "      <td>A191</td>\n",
       "      <td>A201</td>\n",
       "      <td>1</td>\n",
       "    </tr>\n",
       "    <tr>\n",
       "      <th>3</th>\n",
       "      <td>A11</td>\n",
       "      <td>42</td>\n",
       "      <td>A32</td>\n",
       "      <td>A42</td>\n",
       "      <td>7882</td>\n",
       "      <td>A61</td>\n",
       "      <td>A74</td>\n",
       "      <td>2</td>\n",
       "      <td>A93</td>\n",
       "      <td>A103</td>\n",
       "      <td>...</td>\n",
       "      <td>A122</td>\n",
       "      <td>45</td>\n",
       "      <td>A143</td>\n",
       "      <td>A153</td>\n",
       "      <td>1</td>\n",
       "      <td>A173</td>\n",
       "      <td>2</td>\n",
       "      <td>A191</td>\n",
       "      <td>A201</td>\n",
       "      <td>1</td>\n",
       "    </tr>\n",
       "    <tr>\n",
       "      <th>4</th>\n",
       "      <td>A11</td>\n",
       "      <td>24</td>\n",
       "      <td>A33</td>\n",
       "      <td>A40</td>\n",
       "      <td>4870</td>\n",
       "      <td>A61</td>\n",
       "      <td>A73</td>\n",
       "      <td>3</td>\n",
       "      <td>A93</td>\n",
       "      <td>A101</td>\n",
       "      <td>...</td>\n",
       "      <td>A124</td>\n",
       "      <td>53</td>\n",
       "      <td>A143</td>\n",
       "      <td>A153</td>\n",
       "      <td>2</td>\n",
       "      <td>A173</td>\n",
       "      <td>2</td>\n",
       "      <td>A191</td>\n",
       "      <td>A201</td>\n",
       "      <td>2</td>\n",
       "    </tr>\n",
       "  </tbody>\n",
       "</table>\n",
       "<p>5 rows × 21 columns</p>\n",
       "</div>"
      ],
      "text/plain": [
       "    0   1    2    3     4    5    6   7    8     9   ...    11  12    13  \\\n",
       "0  A11   6  A34  A43  1169  A65  A75   4  A93  A101  ...  A121  67  A143   \n",
       "1  A12  48  A32  A43  5951  A61  A73   2  A92  A101  ...  A121  22  A143   \n",
       "2  A14  12  A34  A46  2096  A61  A74   2  A93  A101  ...  A121  49  A143   \n",
       "3  A11  42  A32  A42  7882  A61  A74   2  A93  A103  ...  A122  45  A143   \n",
       "4  A11  24  A33  A40  4870  A61  A73   3  A93  A101  ...  A124  53  A143   \n",
       "\n",
       "     14 15    16 17    18    19 20  \n",
       "0  A152  2  A173  1  A192  A201  1  \n",
       "1  A152  1  A173  1  A191  A201  2  \n",
       "2  A152  1  A172  2  A191  A201  1  \n",
       "3  A153  1  A173  2  A191  A201  1  \n",
       "4  A153  2  A173  2  A191  A201  2  \n",
       "\n",
       "[5 rows x 21 columns]"
      ]
     },
     "execution_count": 43,
     "metadata": {},
     "output_type": "execute_result"
    }
   ],
   "source": [
    "data = pd.read_table(f'{datapath}/german.data', sep=' ', header=None)\n",
    "\n",
    "# opcional: import diretamente do repositório UCL\n",
    "#data = pd.read_table('https://archive.ics.uci.edu/ml/machine-learning-databases/statlog/german/german.data', \n",
    "#                     sep=' ', header=None)\n",
    "\n",
    "data.head()"
   ]
  },
  {
   "cell_type": "markdown",
   "id": "71c21ec2",
   "metadata": {},
   "source": [
    "### conferindo dimensões do dataset"
   ]
  },
  {
   "cell_type": "code",
   "execution_count": 44,
   "id": "0fae6eff",
   "metadata": {
    "ExecuteTime": {
     "end_time": "2021-07-29T00:22:07.155061Z",
     "start_time": "2021-07-29T00:22:07.138563Z"
    }
   },
   "outputs": [],
   "source": [
    "assert data.shape[0] == 1000, 'o dataset não contém o número correto de registros. Esperado: 1000 linhas'\n",
    "assert data.shape[1] == 21, 'o dataset não contém o número correto de colunas. Esperado: 20 features + resposta'"
   ]
  },
  {
   "cell_type": "markdown",
   "id": "bc3f7bcf",
   "metadata": {
    "ExecuteTime": {
     "end_time": "2021-07-27T22:33:13.015972Z",
     "start_time": "2021-07-27T22:33:12.961297Z"
    }
   },
   "source": [
    "## nomeando colunas"
   ]
  },
  {
   "cell_type": "code",
   "execution_count": 45,
   "id": "90f45a3c",
   "metadata": {
    "ExecuteTime": {
     "end_time": "2021-07-29T00:22:07.222812Z",
     "start_time": "2021-07-29T00:22:07.156968Z"
    }
   },
   "outputs": [],
   "source": [
    "col_names = [\n",
    "    'status_check_acc',\n",
    "    'duration',\n",
    "    'cred_history',\n",
    "    'purpose',\n",
    "    'cred_amount',\n",
    "    'savings',\n",
    "    'employment_since',\n",
    "    'installment',\n",
    "    'status_sex',\n",
    "    'other_deb',\n",
    "    'resid_since',\n",
    "    'property',\n",
    "    'age',\n",
    "    'other_installment',\n",
    "    'housing',\n",
    "    'n_creds',\n",
    "    'job',\n",
    "    'n_liable_people',\n",
    "    'tel',\n",
    "    'foreign',\n",
    "    'cred_score'   # Y variable (1 = Good, 2 = Bad)\n",
    "]"
   ]
  },
  {
   "cell_type": "code",
   "execution_count": 46,
   "id": "df488fd4",
   "metadata": {
    "ExecuteTime": {
     "end_time": "2021-07-29T00:22:07.292466Z",
     "start_time": "2021-07-29T00:22:07.224477Z"
    }
   },
   "outputs": [],
   "source": [
    "data.columns = col_names"
   ]
  },
  {
   "cell_type": "markdown",
   "id": "5dd69d4f",
   "metadata": {},
   "source": [
    "## conferindo dtypes"
   ]
  },
  {
   "cell_type": "code",
   "execution_count": 47,
   "id": "0d4cf0b1",
   "metadata": {
    "ExecuteTime": {
     "end_time": "2021-07-29T00:22:07.340339Z",
     "start_time": "2021-07-29T00:22:07.294173Z"
    }
   },
   "outputs": [
    {
     "data": {
      "text/plain": [
       "status_check_acc     object\n",
       "duration              int64\n",
       "cred_history         object\n",
       "purpose              object\n",
       "cred_amount           int64\n",
       "savings              object\n",
       "employment_since     object\n",
       "installment           int64\n",
       "status_sex           object\n",
       "other_deb            object\n",
       "resid_since           int64\n",
       "property             object\n",
       "age                   int64\n",
       "other_installment    object\n",
       "housing              object\n",
       "n_creds               int64\n",
       "job                  object\n",
       "n_liable_people       int64\n",
       "tel                  object\n",
       "foreign              object\n",
       "cred_score            int64\n",
       "dtype: object"
      ]
     },
     "execution_count": 47,
     "metadata": {},
     "output_type": "execute_result"
    }
   ],
   "source": [
    "data.dtypes"
   ]
  },
  {
   "cell_type": "markdown",
   "id": "fdaa4082",
   "metadata": {},
   "source": [
    "As colunas numéricas foram corretamente identificadas como `int`. No entanto, as colunas de tipo `object` precisam ser convertidas para `category` a fim de otimizar seu tempo de processamento (formato mais otimizado pelo pandas para variáveis categóricas).\n",
    "\n",
    "**obs:** também vamos converter o formato da coluna cred_score por se tratar de uma categoria."
   ]
  },
  {
   "cell_type": "code",
   "execution_count": 48,
   "id": "7e42f460",
   "metadata": {
    "ExecuteTime": {
     "end_time": "2021-07-29T00:22:07.429801Z",
     "start_time": "2021-07-29T00:22:07.341963Z"
    }
   },
   "outputs": [
    {
     "data": {
      "text/plain": [
       "status_check_acc     category\n",
       "duration                int64\n",
       "cred_history         category\n",
       "purpose              category\n",
       "cred_amount             int64\n",
       "savings              category\n",
       "employment_since     category\n",
       "installment             int64\n",
       "status_sex           category\n",
       "other_deb            category\n",
       "resid_since             int64\n",
       "property             category\n",
       "age                     int64\n",
       "other_installment    category\n",
       "housing              category\n",
       "n_creds                 int64\n",
       "job                  category\n",
       "n_liable_people         int64\n",
       "tel                  category\n",
       "foreign              category\n",
       "cred_score           category\n",
       "dtype: object"
      ]
     },
     "execution_count": 48,
     "metadata": {},
     "output_type": "execute_result"
    }
   ],
   "source": [
    "for col in data.columns:\n",
    "    if data[col].dtype == 'object' or col == 'cred_score':\n",
    "        data[col] = data[col].astype('category')\n",
    "        \n",
    "data.dtypes"
   ]
  },
  {
   "cell_type": "markdown",
   "id": "6037c629",
   "metadata": {},
   "source": [
    "## conferindo *missing values*"
   ]
  },
  {
   "cell_type": "code",
   "execution_count": 49,
   "id": "ead1d1ee",
   "metadata": {
    "ExecuteTime": {
     "end_time": "2021-07-29T00:22:07.482544Z",
     "start_time": "2021-07-29T00:22:07.434108Z"
    }
   },
   "outputs": [],
   "source": [
    "missing_vals = data.isna().sum().reset_index().rename(columns={'index':'feature', 0:'n_missing'})\n",
    "\n",
    "for idx, row in missing_vals.iterrows():\n",
    "    if row['n_missing'] > 0:\n",
    "        print(f'Warning: há {row.n_missing} valores faltantes na coluna {row.feature}.')"
   ]
  },
  {
   "cell_type": "markdown",
   "id": "c26e52fd",
   "metadata": {},
   "source": [
    "**OBS:** Não foram identificados valores faltantes. Caso houvesse *missing data*, poderíamos adotar uma estratégia de imputação usando, por exemplo, algoritmos KNN ou Naive Bayes para variáveis categóricas. Variáveis numéricas, se possível, poderiam ter seus valores recuperados pela média ou mediana, por exemplo."
   ]
  },
  {
   "cell_type": "markdown",
   "id": "ef3ccb0e",
   "metadata": {},
   "source": [
    "## Feature Engineering\n",
    "\n",
    "Vamos começar transformando a variável resposta em binária para facilitar seu uso e interpretação nos modelos de classificação. Relembrando, a variável resposta `cred_score` está definida como:\n",
    "\n",
    "```bash\n",
    "    1 = bom,\n",
    "    2 = ruim\n",
    "```\n",
    "\n",
    "Sua versão binária será uma variável indicadora, assumindo o valor 1 se um dado indivíduo apresenta score de crédito ruim, e 0 caso contrário. Dessa forma, \n",
    "\n",
    "```bash\n",
    "    0 = bom,\n",
    "    1 = ruim\n",
    "```"
   ]
  },
  {
   "cell_type": "code",
   "execution_count": 50,
   "id": "f37d30b5",
   "metadata": {
    "ExecuteTime": {
     "end_time": "2021-07-29T00:22:07.532259Z",
     "start_time": "2021-07-29T00:22:07.485219Z"
    }
   },
   "outputs": [],
   "source": [
    "data['cred_score'] = data['cred_score'].astype(int) - 1\n",
    "data['cred_score'] = data['cred_score'].astype('category')"
   ]
  },
  {
   "cell_type": "markdown",
   "id": "5a766c34",
   "metadata": {},
   "source": [
    "Em seguida, vamos tratar as demais variáveis categóricas que estão codificadas. \n",
    "\n",
    "<br>\n",
    "\n",
    "### status_check_acc\n",
    "\n",
    "representa o status de uma conta corrente existente"
   ]
  },
  {
   "cell_type": "code",
   "execution_count": 51,
   "id": "6b862d06",
   "metadata": {
    "ExecuteTime": {
     "end_time": "2021-07-29T00:22:07.575516Z",
     "start_time": "2021-07-29T00:22:07.534686Z"
    }
   },
   "outputs": [],
   "source": [
    "status_acc_codes = {\n",
    "    'A11' : '0 DM',\n",
    "    'A12' : '<200 DM',\n",
    "    'A13' : '>=200 DM',\n",
    "    'A14' : 'None'\n",
    "}"
   ]
  },
  {
   "cell_type": "code",
   "execution_count": 52,
   "id": "a765c795",
   "metadata": {
    "ExecuteTime": {
     "end_time": "2021-07-29T00:22:07.654884Z",
     "start_time": "2021-07-29T00:22:07.576999Z"
    }
   },
   "outputs": [
    {
     "data": {
      "application/vnd.jupyter.widget-view+json": {
       "model_id": "f9c4c20bcfaa4ddabbec2c228df94081",
       "version_major": 2,
       "version_minor": 0
      },
      "text/plain": [
       "Pandas Apply:   0%|          | 0/1000 [00:00<?, ?it/s]"
      ]
     },
     "metadata": {},
     "output_type": "display_data"
    }
   ],
   "source": [
    "# decodificando coluna, acelerando com swifter\n",
    "data['status_check_acc'] = data['status_check_acc'].swifter.apply(lambda x: status_acc_codes[x])"
   ]
  },
  {
   "cell_type": "markdown",
   "id": "6f84df5b",
   "metadata": {},
   "source": [
    "**OBS:** a biblioteca `swifter` paraleliza aplicações do apply, o que pode ser muito útil para acelerar o uso do apply em grandes datasets.\n",
    "\n",
    "<br>\n",
    "\n",
    "### cred_history\n",
    "\n",
    "histórico de crédito"
   ]
  },
  {
   "cell_type": "code",
   "execution_count": 53,
   "id": "ea16eecb",
   "metadata": {
    "ExecuteTime": {
     "end_time": "2021-07-29T00:22:07.722889Z",
     "start_time": "2021-07-29T00:22:07.657317Z"
    }
   },
   "outputs": [],
   "source": [
    "cred_hist_codes = {\n",
    "    'A30' : 'not taken/paid duly',\n",
    "    'A31' : 'all paid (this bank)',\n",
    "    'A32' : 'all paid',\n",
    "    'A33' : 'delayed',\n",
    "    'A34' : 'critical'\n",
    "}"
   ]
  },
  {
   "cell_type": "code",
   "execution_count": 54,
   "id": "4b7fe75c",
   "metadata": {
    "ExecuteTime": {
     "end_time": "2021-07-29T00:22:07.826563Z",
     "start_time": "2021-07-29T00:22:07.724923Z"
    }
   },
   "outputs": [
    {
     "data": {
      "application/vnd.jupyter.widget-view+json": {
       "model_id": "a83e13825e9e488989cfd269adedad8c",
       "version_major": 2,
       "version_minor": 0
      },
      "text/plain": [
       "Pandas Apply:   0%|          | 0/1000 [00:00<?, ?it/s]"
      ]
     },
     "metadata": {},
     "output_type": "display_data"
    }
   ],
   "source": [
    "data['cred_history'] = data['cred_history'].swifter.apply(lambda x: cred_hist_codes[x])"
   ]
  },
  {
   "cell_type": "markdown",
   "id": "08a2d2ba",
   "metadata": {},
   "source": [
    "### Purpose\n",
    "\n",
    "Motivo da solicitação de crédito"
   ]
  },
  {
   "cell_type": "code",
   "execution_count": 55,
   "id": "763414a7",
   "metadata": {
    "ExecuteTime": {
     "end_time": "2021-07-29T00:22:07.861928Z",
     "start_time": "2021-07-29T00:22:07.828219Z"
    }
   },
   "outputs": [],
   "source": [
    "purpose_codes = {\n",
    "    'A40' : 'car (new)',  # new\n",
    "    'A41' : 'car (used)', # used\n",
    "    'A42' : 'furniture/equipment',\n",
    "    'A43' : 'radio/television',\n",
    "    'A44' : 'domestic appliances',\n",
    "    'A45' : 'repairs',\n",
    "    'A46' : 'education',\n",
    "    'A47' : 'vacation',\n",
    "    'A48' : 'retraining',\n",
    "    'A49' : 'business',\n",
    "    'A410' : 'others'\n",
    "}"
   ]
  },
  {
   "cell_type": "code",
   "execution_count": 56,
   "id": "c24d4aeb",
   "metadata": {
    "ExecuteTime": {
     "end_time": "2021-07-29T00:22:08.101846Z",
     "start_time": "2021-07-29T00:22:07.865322Z"
    }
   },
   "outputs": [
    {
     "data": {
      "text/plain": [
       "<AxesSubplot:>"
      ]
     },
     "execution_count": 56,
     "metadata": {},
     "output_type": "execute_result"
    },
    {
     "data": {
      "image/png": "[encoded data removed]",
      "text/plain": [
       "<Figure size 432x288 with 1 Axes>"
      ]
     },
     "metadata": {
      "needs_background": "light"
     },
     "output_type": "display_data"
    }
   ],
   "source": [
    "data['purpose'].apply(lambda x:purpose_codes[x]).value_counts().plot(kind='bar')"
   ]
  },
  {
   "cell_type": "markdown",
   "id": "57bba808",
   "metadata": {},
   "source": [
    "<font color='red'>**OBS:**</font> Por fins de simplificação, vou agregar as categorias \"car (new)\" e \"car (used)\". Dessa forma, podemos simplificar como um único propósito de comprar um carro."
   ]
  },
  {
   "cell_type": "code",
   "execution_count": 57,
   "id": "8ca1ea5b",
   "metadata": {
    "ExecuteTime": {
     "end_time": "2021-07-29T00:22:08.108236Z",
     "start_time": "2021-07-29T00:22:08.103755Z"
    }
   },
   "outputs": [],
   "source": [
    "purpose_codes = {\n",
    "    'A40' : 'car',  # new\n",
    "    'A41' : 'car', # used\n",
    "    'A42' : 'furniture/equipment',\n",
    "    'A43' : 'radio/television',\n",
    "    'A44' : 'domestic appliances',\n",
    "    'A45' : 'repairs',\n",
    "    'A46' : 'education',\n",
    "    'A47' : 'vacation',\n",
    "    'A48' : 'retraining',\n",
    "    'A49' : 'business',\n",
    "    'A410' : 'others'\n",
    "}"
   ]
  },
  {
   "cell_type": "code",
   "execution_count": 58,
   "id": "407f94a4",
   "metadata": {
    "ExecuteTime": {
     "end_time": "2021-07-29T00:22:08.182594Z",
     "start_time": "2021-07-29T00:22:08.109738Z"
    }
   },
   "outputs": [
    {
     "data": {
      "application/vnd.jupyter.widget-view+json": {
       "model_id": "7ad0ef4b1a5e4635b7e2a12c322368e8",
       "version_major": 2,
       "version_minor": 0
      },
      "text/plain": [
       "Pandas Apply:   0%|          | 0/1000 [00:00<?, ?it/s]"
      ]
     },
     "metadata": {},
     "output_type": "display_data"
    }
   ],
   "source": [
    "data['purpose'] = data['purpose'].swifter.apply(lambda x: purpose_codes[x])"
   ]
  },
  {
   "cell_type": "markdown",
   "id": "3158eaee",
   "metadata": {},
   "source": [
    "### savings\n",
    "\n",
    "Quantia presente em conta poupança / títulos públicos"
   ]
  },
  {
   "cell_type": "code",
   "execution_count": 59,
   "id": "e5ed4673",
   "metadata": {
    "ExecuteTime": {
     "end_time": "2021-07-29T00:22:08.221065Z",
     "start_time": "2021-07-29T00:22:08.185007Z"
    }
   },
   "outputs": [],
   "source": [
    "savings_codes = {\n",
    "    'A61' :  '<100 DM',\n",
    "    'A62' :  '<500 DM',\n",
    "    'A63' :  '<1000 DM',\n",
    "    'A64' :  '>= 1000 DM',\n",
    "    'A65' :  'None'\n",
    "}"
   ]
  },
  {
   "cell_type": "code",
   "execution_count": 60,
   "id": "71ef0f68",
   "metadata": {
    "ExecuteTime": {
     "end_time": "2021-07-29T00:22:08.300572Z",
     "start_time": "2021-07-29T00:22:08.222618Z"
    }
   },
   "outputs": [
    {
     "data": {
      "application/vnd.jupyter.widget-view+json": {
       "model_id": "59919604cae1480ea33463782188c2ab",
       "version_major": 2,
       "version_minor": 0
      },
      "text/plain": [
       "Pandas Apply:   0%|          | 0/1000 [00:00<?, ?it/s]"
      ]
     },
     "metadata": {},
     "output_type": "display_data"
    }
   ],
   "source": [
    "data['savings'] = data['savings'].swifter.apply(lambda x: savings_codes[x])"
   ]
  },
  {
   "cell_type": "markdown",
   "id": "981a87ad",
   "metadata": {},
   "source": [
    "### employment_since\n",
    "\n",
    "Tempo de permanência no emprego atual"
   ]
  },
  {
   "cell_type": "code",
   "execution_count": 61,
   "id": "2aa52502",
   "metadata": {
    "ExecuteTime": {
     "end_time": "2021-07-29T00:22:08.312075Z",
     "start_time": "2021-07-29T00:22:08.303334Z"
    }
   },
   "outputs": [],
   "source": [
    "employment_codes = {\n",
    "    'A71' : 'unemployed',\n",
    "    'A72' : '< 1 year',   \n",
    "    'A73' : '< 4 years',   \n",
    "    'A74' : '< 7 years',  \n",
    "    'A75' : '>= 7 years'  \n",
    "}"
   ]
  },
  {
   "cell_type": "code",
   "execution_count": 62,
   "id": "34d0870e",
   "metadata": {
    "ExecuteTime": {
     "end_time": "2021-07-29T00:22:08.397740Z",
     "start_time": "2021-07-29T00:22:08.313848Z"
    }
   },
   "outputs": [
    {
     "data": {
      "application/vnd.jupyter.widget-view+json": {
       "model_id": "ffb7a732d9454c008ebcf388614df8e7",
       "version_major": 2,
       "version_minor": 0
      },
      "text/plain": [
       "Pandas Apply:   0%|          | 0/1000 [00:00<?, ?it/s]"
      ]
     },
     "metadata": {},
     "output_type": "display_data"
    }
   ],
   "source": [
    "data['employment_since'] = data['employment_since'].swifter.apply(lambda x: employment_codes[x])"
   ]
  },
  {
   "cell_type": "markdown",
   "id": "f0c58d9a",
   "metadata": {},
   "source": [
    "### status_sex\n",
    "\n",
    "Vamos dividir essa coluna em duas: `social_status` e `gender`."
   ]
  },
  {
   "cell_type": "code",
   "execution_count": 63,
   "id": "98747e33",
   "metadata": {
    "ExecuteTime": {
     "end_time": "2021-07-29T00:22:08.414363Z",
     "start_time": "2021-07-29T00:22:08.399709Z"
    }
   },
   "outputs": [],
   "source": [
    "gender_codes = {\n",
    "    'A91' : 'M', \n",
    "    'A92' : 'F', \n",
    "    'A93' : 'M',  \n",
    "    'A94' : 'M',   \n",
    "    'A95' : 'F',\n",
    "}\n",
    "\n",
    "social_status_codes = {\n",
    "    'A91' : 'divorced/separated',\n",
    "    'A92' : 'divorced/separated',  # obs: como essa classe é dominada pela anterior, vou mapear igualmente \n",
    "    'A93' : 'single',\n",
    "    'A94' : 'married/widowed',\n",
    "    'A95' : 'single',\n",
    "}"
   ]
  },
  {
   "cell_type": "code",
   "execution_count": 64,
   "id": "1b5e8616",
   "metadata": {
    "ExecuteTime": {
     "end_time": "2021-07-29T00:22:08.548853Z",
     "start_time": "2021-07-29T00:22:08.419895Z"
    }
   },
   "outputs": [
    {
     "data": {
      "application/vnd.jupyter.widget-view+json": {
       "model_id": "c2e5856480134a46900d6223f7e3645a",
       "version_major": 2,
       "version_minor": 0
      },
      "text/plain": [
       "Pandas Apply:   0%|          | 0/1000 [00:00<?, ?it/s]"
      ]
     },
     "metadata": {},
     "output_type": "display_data"
    },
    {
     "data": {
      "application/vnd.jupyter.widget-view+json": {
       "model_id": "55ddca21961d49c180db454eb1fbd5fa",
       "version_major": 2,
       "version_minor": 0
      },
      "text/plain": [
       "Pandas Apply:   0%|          | 0/1000 [00:00<?, ?it/s]"
      ]
     },
     "metadata": {},
     "output_type": "display_data"
    }
   ],
   "source": [
    "data['gender'] = data['status_sex'].swifter.apply(lambda x: gender_codes[x])\n",
    "data['social_status'] = data['status_sex'].swifter.apply(lambda x: social_status_codes[x])"
   ]
  },
  {
   "cell_type": "code",
   "execution_count": 65,
   "id": "4d2cdb59",
   "metadata": {
    "ExecuteTime": {
     "end_time": "2021-07-29T00:22:08.564093Z",
     "start_time": "2021-07-29T00:22:08.552644Z"
    }
   },
   "outputs": [],
   "source": [
    "# para evitar duplicidade, vamos remover a soluna status_sex\n",
    "data = data.drop('status_sex', axis=1)"
   ]
  },
  {
   "cell_type": "markdown",
   "id": "666fa0ed",
   "metadata": {},
   "source": [
    "### other_deb\n",
    "\n",
    "Essa variável informa se o cliente é garantidor / fiador de outra pessoa"
   ]
  },
  {
   "cell_type": "code",
   "execution_count": 66,
   "id": "8df763af",
   "metadata": {
    "ExecuteTime": {
     "end_time": "2021-07-29T00:22:08.630616Z",
     "start_time": "2021-07-29T00:22:08.566053Z"
    }
   },
   "outputs": [],
   "source": [
    "other_deb_codes = {\n",
    "    'A101' : 'None',\n",
    "    'A102' : 'co-applicant',\n",
    "    'A103' : 'guarantor'\n",
    "}"
   ]
  },
  {
   "cell_type": "code",
   "execution_count": 67,
   "id": "799bdc74",
   "metadata": {
    "ExecuteTime": {
     "end_time": "2021-07-29T00:22:08.709509Z",
     "start_time": "2021-07-29T00:22:08.632055Z"
    }
   },
   "outputs": [
    {
     "data": {
      "application/vnd.jupyter.widget-view+json": {
       "model_id": "ecf36cdbe70e46b3b6b19861ea843768",
       "version_major": 2,
       "version_minor": 0
      },
      "text/plain": [
       "Pandas Apply:   0%|          | 0/1000 [00:00<?, ?it/s]"
      ]
     },
     "metadata": {},
     "output_type": "display_data"
    }
   ],
   "source": [
    "data['other_deb'] = data['other_deb'].swifter.apply(lambda x:other_deb_codes[x])"
   ]
  },
  {
   "cell_type": "markdown",
   "id": "d370abb3",
   "metadata": {},
   "source": [
    "### Property\n",
    "\n",
    "Bem dado como garantia!?"
   ]
  },
  {
   "cell_type": "code",
   "execution_count": 68,
   "id": "fe7b5536",
   "metadata": {
    "ExecuteTime": {
     "end_time": "2021-07-29T00:22:08.744332Z",
     "start_time": "2021-07-29T00:22:08.711244Z"
    }
   },
   "outputs": [],
   "source": [
    "property_codes = {\n",
    "    'A121' : 'real estate',\n",
    "    'A122' : 'savings/life insurance',\n",
    "    'A123' : 'car',\n",
    "    'A124' : 'unknown/none'\n",
    "}"
   ]
  },
  {
   "cell_type": "code",
   "execution_count": 69,
   "id": "bb97dde6",
   "metadata": {
    "ExecuteTime": {
     "end_time": "2021-07-29T00:22:08.842272Z",
     "start_time": "2021-07-29T00:22:08.745878Z"
    }
   },
   "outputs": [
    {
     "data": {
      "application/vnd.jupyter.widget-view+json": {
       "model_id": "1e3847c29c1241f0bb2d8a3c766f946e",
       "version_major": 2,
       "version_minor": 0
      },
      "text/plain": [
       "Pandas Apply:   0%|          | 0/1000 [00:00<?, ?it/s]"
      ]
     },
     "metadata": {},
     "output_type": "display_data"
    }
   ],
   "source": [
    "data['property'] = data['property'].swifter.apply(lambda x: property_codes[x])"
   ]
  },
  {
   "cell_type": "markdown",
   "id": "ade997cc",
   "metadata": {},
   "source": [
    "### other_installment\n",
    "\n",
    "outros planos de parcelamento!?"
   ]
  },
  {
   "cell_type": "code",
   "execution_count": 70,
   "id": "6c945e5e",
   "metadata": {
    "ExecuteTime": {
     "end_time": "2021-07-29T00:22:08.847768Z",
     "start_time": "2021-07-29T00:22:08.844471Z"
    }
   },
   "outputs": [],
   "source": [
    "other_installment_codes = {\n",
    "    'A141' : 'bank',\n",
    "    'A142' : 'stores',\n",
    "    'A143' : 'none'\n",
    "}"
   ]
  },
  {
   "cell_type": "code",
   "execution_count": 71,
   "id": "05121b55",
   "metadata": {
    "ExecuteTime": {
     "end_time": "2021-07-29T00:22:08.928649Z",
     "start_time": "2021-07-29T00:22:08.850139Z"
    }
   },
   "outputs": [
    {
     "data": {
      "application/vnd.jupyter.widget-view+json": {
       "model_id": "2505acfcf7514082aee21b19d65f3991",
       "version_major": 2,
       "version_minor": 0
      },
      "text/plain": [
       "Pandas Apply:   0%|          | 0/1000 [00:00<?, ?it/s]"
      ]
     },
     "metadata": {},
     "output_type": "display_data"
    }
   ],
   "source": [
    "data['other_installment'] = data['other_installment'].swifter.apply(lambda x:other_installment_codes[x])"
   ]
  },
  {
   "cell_type": "markdown",
   "id": "338acb9c",
   "metadata": {},
   "source": [
    "### housing\n",
    "\n",
    "Tipo de residência"
   ]
  },
  {
   "cell_type": "code",
   "execution_count": 72,
   "id": "7bb134d9",
   "metadata": {
    "ExecuteTime": {
     "end_time": "2021-07-29T00:22:08.937856Z",
     "start_time": "2021-07-29T00:22:08.929997Z"
    }
   },
   "outputs": [],
   "source": [
    "housing_codes = {\n",
    "    'A151' : 'rent',\n",
    "    'A152' : 'own',\n",
    "    'A153' : 'free'\n",
    "}"
   ]
  },
  {
   "cell_type": "code",
   "execution_count": 73,
   "id": "96876b96",
   "metadata": {
    "ExecuteTime": {
     "end_time": "2021-07-29T00:22:09.038997Z",
     "start_time": "2021-07-29T00:22:08.939427Z"
    }
   },
   "outputs": [
    {
     "data": {
      "application/vnd.jupyter.widget-view+json": {
       "model_id": "76c910b242544c958c919d4d0ba2c530",
       "version_major": 2,
       "version_minor": 0
      },
      "text/plain": [
       "Pandas Apply:   0%|          | 0/1000 [00:00<?, ?it/s]"
      ]
     },
     "metadata": {},
     "output_type": "display_data"
    }
   ],
   "source": [
    "data['housing'] = data['housing'].swifter.apply(lambda x: housing_codes[x])"
   ]
  },
  {
   "cell_type": "markdown",
   "id": "225349b8",
   "metadata": {},
   "source": [
    "### jobs"
   ]
  },
  {
   "cell_type": "code",
   "execution_count": 74,
   "id": "cba15163",
   "metadata": {
    "ExecuteTime": {
     "end_time": "2021-07-29T00:22:09.074772Z",
     "start_time": "2021-07-29T00:22:09.040778Z"
    }
   },
   "outputs": [],
   "source": [
    "jobs_codes = {\n",
    "    'A171' : 'unemployed/unskilled',  \n",
    "    'A172' : 'unskilled (resident)',\n",
    "    'A173' : 'skilled',\n",
    "    'A174' : 'executive/highly skilled'\n",
    "}"
   ]
  },
  {
   "cell_type": "code",
   "execution_count": 75,
   "id": "15682d94",
   "metadata": {
    "ExecuteTime": {
     "end_time": "2021-07-29T00:22:09.157049Z",
     "start_time": "2021-07-29T00:22:09.076372Z"
    }
   },
   "outputs": [
    {
     "data": {
      "application/vnd.jupyter.widget-view+json": {
       "model_id": "f3494b46cdc84960b8845965524de312",
       "version_major": 2,
       "version_minor": 0
      },
      "text/plain": [
       "Pandas Apply:   0%|          | 0/1000 [00:00<?, ?it/s]"
      ]
     },
     "metadata": {},
     "output_type": "display_data"
    }
   ],
   "source": [
    "data['job'] = data['job'].swifter.apply(lambda x:jobs_codes[x])"
   ]
  },
  {
   "cell_type": "markdown",
   "id": "841f81ba",
   "metadata": {},
   "source": [
    "### Tel\n",
    "\n",
    "registered telephone number?"
   ]
  },
  {
   "cell_type": "code",
   "execution_count": 76,
   "id": "00fd2e27",
   "metadata": {
    "ExecuteTime": {
     "end_time": "2021-07-29T00:22:09.165770Z",
     "start_time": "2021-07-29T00:22:09.159141Z"
    }
   },
   "outputs": [],
   "source": [
    "tel_codes = {\n",
    "    'A191' : 0,  # no\n",
    "    'A192' : 1   # yes\n",
    "}"
   ]
  },
  {
   "cell_type": "code",
   "execution_count": 77,
   "id": "ac860d7b",
   "metadata": {
    "ExecuteTime": {
     "end_time": "2021-07-29T00:22:09.241722Z",
     "start_time": "2021-07-29T00:22:09.167831Z"
    }
   },
   "outputs": [
    {
     "data": {
      "application/vnd.jupyter.widget-view+json": {
       "model_id": "f628670584fa48c582a1dd70daecffd9",
       "version_major": 2,
       "version_minor": 0
      },
      "text/plain": [
       "Pandas Apply:   0%|          | 0/1000 [00:00<?, ?it/s]"
      ]
     },
     "metadata": {},
     "output_type": "display_data"
    }
   ],
   "source": [
    "data['tel'] = data['tel'].swifter.apply(lambda x:tel_codes[x])"
   ]
  },
  {
   "cell_type": "markdown",
   "id": "a2316a94",
   "metadata": {},
   "source": [
    "### Foreign\n",
    "\n",
    "the client is a foreign worker?"
   ]
  },
  {
   "cell_type": "code",
   "execution_count": 78,
   "id": "3606ce9f",
   "metadata": {
    "ExecuteTime": {
     "end_time": "2021-07-29T00:22:09.278847Z",
     "start_time": "2021-07-29T00:22:09.244361Z"
    }
   },
   "outputs": [],
   "source": [
    "foreign_codes = {\n",
    "    'A201' : 1,  # yes\n",
    "    'A202' : 0   # no\n",
    "}"
   ]
  },
  {
   "cell_type": "code",
   "execution_count": 79,
   "id": "376cb01e",
   "metadata": {
    "ExecuteTime": {
     "end_time": "2021-07-29T00:22:09.354991Z",
     "start_time": "2021-07-29T00:22:09.280723Z"
    }
   },
   "outputs": [
    {
     "data": {
      "application/vnd.jupyter.widget-view+json": {
       "model_id": "7bf1010173aa4bf882ae9c33e8ffa565",
       "version_major": 2,
       "version_minor": 0
      },
      "text/plain": [
       "Pandas Apply:   0%|          | 0/1000 [00:00<?, ?it/s]"
      ]
     },
     "metadata": {},
     "output_type": "display_data"
    }
   ],
   "source": [
    "data['foreign'] = data['foreign'].swifter.apply(lambda x: foreign_codes[x])"
   ]
  },
  {
   "cell_type": "markdown",
   "id": "8d871842",
   "metadata": {},
   "source": [
    "## exportando a base de dados\n",
    "\n",
    "Por fins de organização, vou exportar a base de dados em um pickle para uso em outros notebooks."
   ]
  },
  {
   "cell_type": "code",
   "execution_count": 80,
   "id": "8a5d8081",
   "metadata": {
    "ExecuteTime": {
     "end_time": "2021-07-29T00:22:09.371923Z",
     "start_time": "2021-07-29T00:22:09.356917Z"
    }
   },
   "outputs": [],
   "source": [
    "with open(f'{datapath}/data.pickle', 'wb') as file:\n",
    "    pickle.dump(data, file)"
   ]
  },
  {
   "cell_type": "markdown",
   "id": "f7e87aab",
   "metadata": {},
   "source": [
    "**Fim!**\n",
    "\n",
    "<font color='red'>Confira os demais notebooks para visualizar análises descritivas/preditivas.</font>"
   ]
  }
 ],
 "metadata": {
  "kernelspec": {
   "display_name": "Python 3",
   "language": "python",
   "name": "python3"
  },
  "language_info": {
   "codemirror_mode": {
    "name": "ipython",
    "version": 3
   },
   "file_extension": ".py",
   "mimetype": "text/x-python",
   "name": "python",
   "nbconvert_exporter": "python",
   "pygments_lexer": "ipython3",
   "version": "3.9.5"
  },
  "toc": {
   "base_numbering": 1,
   "nav_menu": {},
   "number_sections": true,
   "sideBar": true,
   "skip_h1_title": false,
   "title_cell": "Table of Contents",
   "title_sidebar": "Contents",
   "toc_cell": false,
   "toc_position": {},
   "toc_section_display": true,
   "toc_window_display": false
  },
  "varInspector": {
   "cols": {
    "lenName": 16,
    "lenType": 16,
    "lenVar": 40
   },
   "kernels_config": {
    "python": {
     "delete_cmd_postfix": "",
     "delete_cmd_prefix": "del ",
     "library": "var_list.py",
     "varRefreshCmd": "print(var_dic_list())"
    },
    "r": {
     "delete_cmd_postfix": ") ",
     "delete_cmd_prefix": "rm(",
     "library": "var_list.r",
     "varRefreshCmd": "cat(var_dic_list()) "
    }
   },
   "types_to_exclude": [
    "module",
    "function",
    "builtin_function_or_method",
    "instance",
    "_Feature"
   ],
   "window_display": false
  }
 },
 "nbformat": 4,
 "nbformat_minor": 5
}
