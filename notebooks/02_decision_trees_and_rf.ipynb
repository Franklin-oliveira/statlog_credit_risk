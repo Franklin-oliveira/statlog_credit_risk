{
 "cells": [
  {
   "cell_type": "markdown",
   "id": "a147f3d2",
   "metadata": {},
   "source": [
    "# Linear model\n",
    "\n",
    "Nesse notebook, será desenvolvida uma análise preditiva com modelos lineares de regressão logística com regularização do tipo Lasso, Ridge e ElasticNet."
   ]
  },
  {
   "cell_type": "code",
   "execution_count": 1,
   "id": "aefadac3",
   "metadata": {
    "ExecuteTime": {
     "end_time": "2021-07-29T19:48:22.591497Z",
     "start_time": "2021-07-29T19:48:21.725938Z"
    }
   },
   "outputs": [],
   "source": [
    "import pickle\n",
    "import numpy as np\n",
    "import pandas as pd\n",
    "import seaborn as sns\n",
    "import matplotlib.pyplot as plt\n",
    "\n",
    "from pathlib import Path\n",
    "\n",
    "# sklearn\n",
    "from sklearn.linear_model import Ridge, Lasso, ElasticNet, LogisticRegression\n",
    "from sklearn.preprocessing import StandardScaler\n",
    "from sklearn.model_selection import train_test_split, GridSearchCV, cross_val_score\n",
    "from sklearn.metrics import mean_squared_error as MSE\n",
    "from sklearn.metrics import classification_report, confusion_matrix, roc_auc_score, roc_curve\n",
    "from sklearn.pipeline import Pipeline"
   ]
  },
  {
   "cell_type": "code",
   "execution_count": 2,
   "id": "3f06a79d",
   "metadata": {
    "ExecuteTime": {
     "end_time": "2021-07-29T19:48:23.234437Z",
     "start_time": "2021-07-29T19:48:23.229087Z"
    }
   },
   "outputs": [],
   "source": [
    "%matplotlib inline\n",
    "\n",
    "sns.set(font_scale=0.9)\n",
    "\n",
    "# seed padrão\n",
    "seed = 101"
   ]
  },
  {
   "cell_type": "markdown",
   "id": "708971a4",
   "metadata": {},
   "source": [
    "**Relembrando...**\n",
    "\n",
    "Lasso(alpha = 0.1, normalize=True)\n",
    "Ridge(alpha=0.1, normalize=True)\n",
    "\n",
    "-----\n",
    "\n",
    "classification_report(y_test, y_pred)  # o mesmo para confusion_matrix\n",
    "\n",
    "-----\n",
    "y_pred_proba = logreg.predict_proba(X_test)[:,1]\n",
    "roc_auc_score(y_test, y_pred_proba)\n",
    "\n",
    "false_pos_rate, true_pos_rate, thresholds = roc_curve(y_test, y_pred_proba)\n",
    "\n",
    "-----"
   ]
  },
  {
   "cell_type": "markdown",
   "id": "23d29c0c",
   "metadata": {},
   "source": [
    "**Passo a Passo:**\n",
    "\n",
    "1. Importar dados\n",
    "2. Normalizar var. numericas\n",
    "3. One Hot Encoding (var. categoricas)\n",
    "4. Estimar Lasso (com GridSearch)\n",
    "5. Verificar importância de Features\n",
    "6. Estimar Ridge e Elastic Net\n",
    "7. Comparar modelos e identificar o melhor nos critérios: precision, recall, F1, curva ROC, tempo de treino, tempo de avaliação (teste)\n",
    "8. Montar pipeline com o melhor modelo e salvar melhor modelo em um pickle."
   ]
  },
  {
   "cell_type": "markdown",
   "id": "f505fbb4",
   "metadata": {},
   "source": [
    "## Importando dataset"
   ]
  },
  {
   "cell_type": "code",
   "execution_count": 3,
   "id": "9ef749f2",
   "metadata": {
    "ExecuteTime": {
     "end_time": "2021-07-29T19:48:25.753302Z",
     "start_time": "2021-07-29T19:48:25.745940Z"
    }
   },
   "outputs": [],
   "source": [
    "datapath = Path('../data')\n",
    "\n",
    "with open(f'{datapath}/data.pickle', 'rb') as file:\n",
    "    data = pickle.load(file)"
   ]
  },
  {
   "cell_type": "code",
   "execution_count": 4,
   "id": "890340da",
   "metadata": {
    "ExecuteTime": {
     "end_time": "2021-07-29T19:48:26.386579Z",
     "start_time": "2021-07-29T19:48:26.335273Z"
    }
   },
   "outputs": [
    {
     "data": {
      "text/html": [
       "<div>\n",
       "<style scoped>\n",
       "    .dataframe tbody tr th:only-of-type {\n",
       "        vertical-align: middle;\n",
       "    }\n",
       "\n",
       "    .dataframe tbody tr th {\n",
       "        vertical-align: top;\n",
       "    }\n",
       "\n",
       "    .dataframe thead th {\n",
       "        text-align: right;\n",
       "    }\n",
       "</style>\n",
       "<table border=\"1\" class=\"dataframe\">\n",
       "  <thead>\n",
       "    <tr style=\"text-align: right;\">\n",
       "      <th></th>\n",
       "      <th>status_check_acc</th>\n",
       "      <th>duration</th>\n",
       "      <th>cred_history</th>\n",
       "      <th>purpose</th>\n",
       "      <th>cred_amount</th>\n",
       "      <th>savings</th>\n",
       "      <th>employment_since</th>\n",
       "      <th>installment</th>\n",
       "      <th>other_deb</th>\n",
       "      <th>resid_since</th>\n",
       "      <th>...</th>\n",
       "      <th>other_installment</th>\n",
       "      <th>housing</th>\n",
       "      <th>n_creds</th>\n",
       "      <th>job</th>\n",
       "      <th>n_liable_people</th>\n",
       "      <th>tel</th>\n",
       "      <th>foreign</th>\n",
       "      <th>cred_score</th>\n",
       "      <th>gender</th>\n",
       "      <th>social_status</th>\n",
       "    </tr>\n",
       "  </thead>\n",
       "  <tbody>\n",
       "    <tr>\n",
       "      <th>0</th>\n",
       "      <td>0 DM</td>\n",
       "      <td>6</td>\n",
       "      <td>critical</td>\n",
       "      <td>radio/television</td>\n",
       "      <td>1169.0</td>\n",
       "      <td>None</td>\n",
       "      <td>&gt;= 7 years</td>\n",
       "      <td>4</td>\n",
       "      <td>None</td>\n",
       "      <td>4</td>\n",
       "      <td>...</td>\n",
       "      <td>none</td>\n",
       "      <td>own</td>\n",
       "      <td>2</td>\n",
       "      <td>skilled</td>\n",
       "      <td>1</td>\n",
       "      <td>1</td>\n",
       "      <td>1</td>\n",
       "      <td>0</td>\n",
       "      <td>M</td>\n",
       "      <td>single</td>\n",
       "    </tr>\n",
       "    <tr>\n",
       "      <th>1</th>\n",
       "      <td>&lt;200 DM</td>\n",
       "      <td>48</td>\n",
       "      <td>all paid</td>\n",
       "      <td>radio/television</td>\n",
       "      <td>5951.0</td>\n",
       "      <td>&lt;100 DM</td>\n",
       "      <td>&lt; 4 years</td>\n",
       "      <td>2</td>\n",
       "      <td>None</td>\n",
       "      <td>2</td>\n",
       "      <td>...</td>\n",
       "      <td>none</td>\n",
       "      <td>own</td>\n",
       "      <td>1</td>\n",
       "      <td>skilled</td>\n",
       "      <td>1</td>\n",
       "      <td>0</td>\n",
       "      <td>1</td>\n",
       "      <td>1</td>\n",
       "      <td>F</td>\n",
       "      <td>divorced/separated</td>\n",
       "    </tr>\n",
       "  </tbody>\n",
       "</table>\n",
       "<p>2 rows × 22 columns</p>\n",
       "</div>"
      ],
      "text/plain": [
       "  status_check_acc  duration cred_history           purpose  cred_amount  \\\n",
       "0             0 DM         6     critical  radio/television       1169.0   \n",
       "1          <200 DM        48     all paid  radio/television       5951.0   \n",
       "\n",
       "   savings employment_since  installment other_deb  resid_since  ...  \\\n",
       "0     None       >= 7 years            4      None            4  ...   \n",
       "1  <100 DM        < 4 years            2      None            2  ...   \n",
       "\n",
       "  other_installment  housing n_creds      job  n_liable_people tel  foreign  \\\n",
       "0              none      own       2  skilled                1   1        1   \n",
       "1              none      own       1  skilled                1   0        1   \n",
       "\n",
       "  cred_score gender       social_status  \n",
       "0          0      M              single  \n",
       "1          1      F  divorced/separated  \n",
       "\n",
       "[2 rows x 22 columns]"
      ]
     },
     "execution_count": 4,
     "metadata": {},
     "output_type": "execute_result"
    }
   ],
   "source": [
    "data.head(2)"
   ]
  },
  {
   "cell_type": "markdown",
   "id": "78906916",
   "metadata": {},
   "source": [
    "## Separando variáveis preditoras e dependente (X e y)"
   ]
  },
  {
   "cell_type": "code",
   "execution_count": 5,
   "id": "5738417d",
   "metadata": {
    "ExecuteTime": {
     "end_time": "2021-07-29T19:48:28.166678Z",
     "start_time": "2021-07-29T19:48:28.160358Z"
    }
   },
   "outputs": [],
   "source": [
    "X = data.drop('cred_score', axis=1).copy()\n",
    "y = data['cred_score'].copy()"
   ]
  },
  {
   "cell_type": "markdown",
   "id": "839c1419",
   "metadata": {},
   "source": [
    "## Normalizando variáveis numéricas contínuas\n",
    "\n",
    "As variáveis numéricas, porém discretas, serão tratadas como categóricas. No entanto, não serão sujeitas ao processo de `OneHotEncoding`."
   ]
  },
  {
   "cell_type": "code",
   "execution_count": 6,
   "id": "b329ebaf",
   "metadata": {
    "ExecuteTime": {
     "end_time": "2021-07-29T19:48:29.060388Z",
     "start_time": "2021-07-29T19:48:29.054539Z"
    }
   },
   "outputs": [
    {
     "name": "stdout",
     "output_type": "stream",
     "text": [
      "['cred_amount']\n"
     ]
    }
   ],
   "source": [
    "continuous_vars = [col for col in X.columns if X[col].dtype == 'float']\n",
    "print(continuous_vars)"
   ]
  },
  {
   "cell_type": "code",
   "execution_count": 7,
   "id": "a3a9006d",
   "metadata": {
    "ExecuteTime": {
     "end_time": "2021-07-29T19:48:30.756160Z",
     "start_time": "2021-07-29T19:48:30.752083Z"
    }
   },
   "outputs": [],
   "source": [
    "for var in continuous_vars:\n",
    "    mean = np.mean(X[var])\n",
    "    std = np.std(X[var])\n",
    "    \n",
    "    values = X[var].values\n",
    "    \n",
    "    standard_var = (values - mean)/std  # padronizando\n",
    "    \n",
    "    X[var] = standard_var"
   ]
  },
  {
   "cell_type": "markdown",
   "id": "964e85a2",
   "metadata": {},
   "source": [
    "## OneHotEncoding\n",
    "\n",
    "Nesse passo, vamos converter todas as variáveis categóricas em dummies."
   ]
  },
  {
   "cell_type": "code",
   "execution_count": 8,
   "id": "844720af",
   "metadata": {
    "ExecuteTime": {
     "end_time": "2021-07-29T19:48:31.751372Z",
     "start_time": "2021-07-29T19:48:31.744752Z"
    }
   },
   "outputs": [
    {
     "name": "stdout",
     "output_type": "stream",
     "text": [
      "categorical_vars:  ['status_check_acc', 'cred_history', 'purpose', 'savings', 'employment_since', 'other_deb', 'property', 'other_installment', 'housing', 'job', 'tel', 'foreign', 'gender', 'social_status']\n",
      "\n",
      "numerical_vars:  ['duration', 'cred_amount', 'installment', 'resid_since', 'age', 'n_creds', 'n_liable_people']\n"
     ]
    }
   ],
   "source": [
    "categorical_vars = [col for col in X.columns if X[col].dtype not in ['int', 'float']]\n",
    "numerical_vars = [col for col in X.columns if col not in categorical_vars]\n",
    "\n",
    "print('categorical_vars: ',categorical_vars)\n",
    "print('\\nnumerical_vars: ',numerical_vars)"
   ]
  },
  {
   "cell_type": "code",
   "execution_count": 9,
   "id": "6aba06f3",
   "metadata": {
    "ExecuteTime": {
     "end_time": "2021-07-29T19:48:32.471879Z",
     "start_time": "2021-07-29T19:48:32.441187Z"
    }
   },
   "outputs": [],
   "source": [
    "# criando dummies\n",
    "X_dummy = pd.get_dummies(X[categorical_vars], drop_first=True)"
   ]
  },
  {
   "cell_type": "code",
   "execution_count": 10,
   "id": "e2d8a5a7",
   "metadata": {
    "ExecuteTime": {
     "end_time": "2021-07-29T19:48:33.601327Z",
     "start_time": "2021-07-29T19:48:33.596840Z"
    }
   },
   "outputs": [],
   "source": [
    "# agregando ao conjunto de features X\n",
    "X = pd.concat([X[numerical_vars], X_dummy], axis=1)"
   ]
  },
  {
   "cell_type": "markdown",
   "id": "b028d37f",
   "metadata": {},
   "source": [
    "## Train Test Split\n",
    "\n",
    "Nesse passo, vamos separar um conjunto de treino e um de teste (_holdout_) para posterior avaliação fora da amostra. Como a amostra contém apenas 1000 registros, reservaremos 20% para compor o conjunto de teste. Será selecionado o modelo com o melhor *cross_validation_score* dentro da amostra de treino.\n",
    "\n",
    "**OBS:** é importante que seja definido o parâmetro `stratify` para que sejam mantidas as mesmas proporções de clientes com score bom e ruim observadas na amostra."
   ]
  },
  {
   "cell_type": "code",
   "execution_count": 11,
   "id": "b3dee986",
   "metadata": {
    "ExecuteTime": {
     "end_time": "2021-07-29T19:48:34.672850Z",
     "start_time": "2021-07-29T19:48:34.663358Z"
    }
   },
   "outputs": [],
   "source": [
    "X_train, X_holdout, y_train, y_holdout = train_test_split(X, y, stratify=y, test_size=0.2, random_state=seed)"
   ]
  },
  {
   "cell_type": "markdown",
   "id": "429eefb0",
   "metadata": {},
   "source": [
    "## Estimando modelo Lasso\n",
    "\n",
    "Com esse modelo, esperamos ter uma primeira medida de _feature importance_ e uma primeira avaliação de performance para modelos lineares."
   ]
  },
  {
   "cell_type": "code",
   "execution_count": 12,
   "id": "8ebae6bf",
   "metadata": {
    "ExecuteTime": {
     "end_time": "2021-07-29T19:48:36.435988Z",
     "start_time": "2021-07-29T19:48:36.430603Z"
    }
   },
   "outputs": [],
   "source": [
    "# grid de parâmetros para o Lasso\n",
    "lasso_param_grid = {\n",
    "    'alpha':np.linspace(0.01, 1, 10)\n",
    "}"
   ]
  },
  {
   "cell_type": "code",
   "execution_count": 13,
   "id": "55d1939f",
   "metadata": {
    "ExecuteTime": {
     "end_time": "2021-07-29T19:48:37.275021Z",
     "start_time": "2021-07-29T19:48:37.055607Z"
    }
   },
   "outputs": [
    {
     "data": {
      "text/plain": [
       "GridSearchCV(cv=3, estimator=Lasso(),\n",
       "             param_grid={'alpha': array([0.01, 0.12, 0.23, 0.34, 0.45, 0.56, 0.67, 0.78, 0.89, 1.  ])})"
      ]
     },
     "execution_count": 13,
     "metadata": {},
     "output_type": "execute_result"
    }
   ],
   "source": [
    "lasso = Lasso()\n",
    "lasso_cv = GridSearchCV(lasso, lasso_param_grid, cv=3)  # 3 fold devido ao número de registros\n",
    "lasso_cv.fit(X_train, y_train)"
   ]
  },
  {
   "cell_type": "code",
   "execution_count": 14,
   "id": "26a3e939",
   "metadata": {
    "ExecuteTime": {
     "end_time": "2021-07-29T19:48:38.902992Z",
     "start_time": "2021-07-29T19:48:38.900097Z"
    }
   },
   "outputs": [
    {
     "name": "stdout",
     "output_type": "stream",
     "text": [
      "Lasso best params: {'alpha': 0.01}\n",
      "Lasso best score (R2): 0.14133132821853375\n"
     ]
    }
   ],
   "source": [
    "print('Lasso best params:', lasso_cv.best_params_)\n",
    "print('Lasso best score (R2):', lasso_cv.best_score_)"
   ]
  },
  {
   "cell_type": "markdown",
   "id": "24d578f8",
   "metadata": {},
   "source": [
    "## Estimando modelo Ridge"
   ]
  },
  {
   "cell_type": "code",
   "execution_count": 15,
   "id": "a0ab1442",
   "metadata": {
    "ExecuteTime": {
     "end_time": "2021-07-29T19:48:40.977577Z",
     "start_time": "2021-07-29T19:48:40.974918Z"
    }
   },
   "outputs": [],
   "source": [
    "# grid de parâmetros para o Lasso\n",
    "ridge_param_grid = {\n",
    "    'alpha':np.linspace(0.01, 1, 10)\n",
    "}"
   ]
  },
  {
   "cell_type": "code",
   "execution_count": 16,
   "id": "14c3877b",
   "metadata": {
    "ExecuteTime": {
     "end_time": "2021-07-29T19:48:41.709517Z",
     "start_time": "2021-07-29T19:48:41.489641Z"
    }
   },
   "outputs": [
    {
     "data": {
      "text/plain": [
       "GridSearchCV(cv=3, estimator=Ridge(),\n",
       "             param_grid={'alpha': array([0.01, 0.12, 0.23, 0.34, 0.45, 0.56, 0.67, 0.78, 0.89, 1.  ])})"
      ]
     },
     "execution_count": 16,
     "metadata": {},
     "output_type": "execute_result"
    }
   ],
   "source": [
    "ridge = Ridge()\n",
    "ridge_cv = GridSearchCV(ridge, ridge_param_grid, cv=3)\n",
    "ridge_cv.fit(X_train, y_train)"
   ]
  },
  {
   "cell_type": "code",
   "execution_count": 17,
   "id": "97407aae",
   "metadata": {
    "ExecuteTime": {
     "end_time": "2021-07-29T19:48:42.601336Z",
     "start_time": "2021-07-29T19:48:42.597089Z"
    }
   },
   "outputs": [
    {
     "name": "stdout",
     "output_type": "stream",
     "text": [
      "Ridge best params: {'alpha': 0.01}\n",
      "Ridge best score (R2): 0.14133132821853375\n"
     ]
    }
   ],
   "source": [
    "print('Ridge best params:', lasso_cv.best_params_)\n",
    "print('Ridge best score (R2):', lasso_cv.best_score_)"
   ]
  },
  {
   "cell_type": "code",
   "execution_count": 18,
   "id": "1b923919",
   "metadata": {
    "ExecuteTime": {
     "end_time": "2021-07-29T19:48:44.559723Z",
     "start_time": "2021-07-29T19:48:44.554582Z"
    }
   },
   "outputs": [],
   "source": [
    "l = LogisticRegression()"
   ]
  },
  {
   "cell_type": "code",
   "execution_count": 19,
   "id": "c94f4e30",
   "metadata": {
    "ExecuteTime": {
     "end_time": "2021-07-29T19:48:45.626776Z",
     "start_time": "2021-07-29T19:48:45.568924Z"
    }
   },
   "outputs": [
    {
     "name": "stderr",
     "output_type": "stream",
     "text": [
      "/home/franklin/anaconda3/envs/cases/lib/python3.9/site-packages/sklearn/linear_model/_logistic.py:763: ConvergenceWarning: lbfgs failed to converge (status=1):\n",
      "STOP: TOTAL NO. of ITERATIONS REACHED LIMIT.\n",
      "\n",
      "Increase the number of iterations (max_iter) or scale the data as shown in:\n",
      "    https://scikit-learn.org/stable/modules/preprocessing.html\n",
      "Please also refer to the documentation for alternative solver options:\n",
      "    https://scikit-learn.org/stable/modules/linear_model.html#logistic-regression\n",
      "  n_iter_i = _check_optimize_result(\n"
     ]
    },
    {
     "data": {
      "text/plain": [
       "LogisticRegression()"
      ]
     },
     "execution_count": 19,
     "metadata": {},
     "output_type": "execute_result"
    }
   ],
   "source": [
    "l.fit(X_train, y_train)"
   ]
  },
  {
   "cell_type": "code",
   "execution_count": 23,
   "id": "544eb6a9",
   "metadata": {
    "ExecuteTime": {
     "end_time": "2021-07-29T19:50:49.929132Z",
     "start_time": "2021-07-29T19:50:49.901022Z"
    }
   },
   "outputs": [
    {
     "data": {
      "text/plain": [
       "array([-0.00597102, -0.00070344, -0.00080379])"
      ]
     },
     "execution_count": 23,
     "metadata": {},
     "output_type": "execute_result"
    }
   ],
   "source": [
    "cross_val_score(Lasso(), X_train, y_train, cv=3)"
   ]
  }
 ],
 "metadata": {
  "kernelspec": {
   "display_name": "Python 3",
   "language": "python",
   "name": "python3"
  },
  "language_info": {
   "codemirror_mode": {
    "name": "ipython",
    "version": 3
   },
   "file_extension": ".py",
   "mimetype": "text/x-python",
   "name": "python",
   "nbconvert_exporter": "python",
   "pygments_lexer": "ipython3",
   "version": "3.9.5"
  },
  "toc": {
   "base_numbering": 1,
   "nav_menu": {},
   "number_sections": true,
   "sideBar": true,
   "skip_h1_title": false,
   "title_cell": "Table of Contents",
   "title_sidebar": "Contents",
   "toc_cell": false,
   "toc_position": {},
   "toc_section_display": true,
   "toc_window_display": false
  },
  "varInspector": {
   "cols": {
    "lenName": 16,
    "lenType": 16,
    "lenVar": 40
   },
   "kernels_config": {
    "python": {
     "delete_cmd_postfix": "",
     "delete_cmd_prefix": "del ",
     "library": "var_list.py",
     "varRefreshCmd": "print(var_dic_list())"
    },
    "r": {
     "delete_cmd_postfix": ") ",
     "delete_cmd_prefix": "rm(",
     "library": "var_list.r",
     "varRefreshCmd": "cat(var_dic_list()) "
    }
   },
   "types_to_exclude": [
    "module",
    "function",
    "builtin_function_or_method",
    "instance",
    "_Feature"
   ],
   "window_display": false
  }
 },
 "nbformat": 4,
 "nbformat_minor": 5
}
