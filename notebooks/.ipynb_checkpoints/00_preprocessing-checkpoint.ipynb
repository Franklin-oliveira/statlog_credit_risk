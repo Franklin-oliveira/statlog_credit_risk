{
 "cells": [
  {
   "cell_type": "markdown",
   "id": "9291ae0c",
   "metadata": {},
   "source": [
    "# Pré-processamento"
   ]
  },
  {
   "cell_type": "code",
   "execution_count": 1,
   "id": "0431bf2a",
   "metadata": {
    "ExecuteTime": {
     "end_time": "2021-07-27T23:14:49.733638Z",
     "start_time": "2021-07-27T23:14:48.977902Z"
    }
   },
   "outputs": [],
   "source": [
    "import numpy as np\n",
    "import pandas as pd\n",
    "\n",
    "from pathlib import Path"
   ]
  },
  {
   "cell_type": "markdown",
   "id": "8e14e89c",
   "metadata": {},
   "source": [
    "## importando dados\n",
    "\n",
    "Arquivo: `../data/german.data`"
   ]
  },
  {
   "cell_type": "code",
   "execution_count": 2,
   "id": "c89557ea",
   "metadata": {
    "ExecuteTime": {
     "end_time": "2021-07-27T23:14:49.737857Z",
     "start_time": "2021-07-27T23:14:49.735344Z"
    }
   },
   "outputs": [],
   "source": [
    "datapath = Path('../data')  # defining absolute path to database (it's meant to work across different OS)"
   ]
  },
  {
   "cell_type": "code",
   "execution_count": 3,
   "id": "11752cfa",
   "metadata": {
    "ExecuteTime": {
     "end_time": "2021-07-27T23:14:49.891206Z",
     "start_time": "2021-07-27T23:14:49.740200Z"
    }
   },
   "outputs": [
    {
     "data": {
      "text/html": [
       "<div>\n",
       "<style scoped>\n",
       "    .dataframe tbody tr th:only-of-type {\n",
       "        vertical-align: middle;\n",
       "    }\n",
       "\n",
       "    .dataframe tbody tr th {\n",
       "        vertical-align: top;\n",
       "    }\n",
       "\n",
       "    .dataframe thead th {\n",
       "        text-align: right;\n",
       "    }\n",
       "</style>\n",
       "<table border=\"1\" class=\"dataframe\">\n",
       "  <thead>\n",
       "    <tr style=\"text-align: right;\">\n",
       "      <th></th>\n",
       "      <th>0</th>\n",
       "      <th>1</th>\n",
       "      <th>2</th>\n",
       "      <th>3</th>\n",
       "      <th>4</th>\n",
       "      <th>5</th>\n",
       "      <th>6</th>\n",
       "      <th>7</th>\n",
       "      <th>8</th>\n",
       "      <th>9</th>\n",
       "      <th>...</th>\n",
       "      <th>11</th>\n",
       "      <th>12</th>\n",
       "      <th>13</th>\n",
       "      <th>14</th>\n",
       "      <th>15</th>\n",
       "      <th>16</th>\n",
       "      <th>17</th>\n",
       "      <th>18</th>\n",
       "      <th>19</th>\n",
       "      <th>20</th>\n",
       "    </tr>\n",
       "  </thead>\n",
       "  <tbody>\n",
       "    <tr>\n",
       "      <th>0</th>\n",
       "      <td>A11</td>\n",
       "      <td>6</td>\n",
       "      <td>A34</td>\n",
       "      <td>A43</td>\n",
       "      <td>1169</td>\n",
       "      <td>A65</td>\n",
       "      <td>A75</td>\n",
       "      <td>4</td>\n",
       "      <td>A93</td>\n",
       "      <td>A101</td>\n",
       "      <td>...</td>\n",
       "      <td>A121</td>\n",
       "      <td>67</td>\n",
       "      <td>A143</td>\n",
       "      <td>A152</td>\n",
       "      <td>2</td>\n",
       "      <td>A173</td>\n",
       "      <td>1</td>\n",
       "      <td>A192</td>\n",
       "      <td>A201</td>\n",
       "      <td>1</td>\n",
       "    </tr>\n",
       "    <tr>\n",
       "      <th>1</th>\n",
       "      <td>A12</td>\n",
       "      <td>48</td>\n",
       "      <td>A32</td>\n",
       "      <td>A43</td>\n",
       "      <td>5951</td>\n",
       "      <td>A61</td>\n",
       "      <td>A73</td>\n",
       "      <td>2</td>\n",
       "      <td>A92</td>\n",
       "      <td>A101</td>\n",
       "      <td>...</td>\n",
       "      <td>A121</td>\n",
       "      <td>22</td>\n",
       "      <td>A143</td>\n",
       "      <td>A152</td>\n",
       "      <td>1</td>\n",
       "      <td>A173</td>\n",
       "      <td>1</td>\n",
       "      <td>A191</td>\n",
       "      <td>A201</td>\n",
       "      <td>2</td>\n",
       "    </tr>\n",
       "    <tr>\n",
       "      <th>2</th>\n",
       "      <td>A14</td>\n",
       "      <td>12</td>\n",
       "      <td>A34</td>\n",
       "      <td>A46</td>\n",
       "      <td>2096</td>\n",
       "      <td>A61</td>\n",
       "      <td>A74</td>\n",
       "      <td>2</td>\n",
       "      <td>A93</td>\n",
       "      <td>A101</td>\n",
       "      <td>...</td>\n",
       "      <td>A121</td>\n",
       "      <td>49</td>\n",
       "      <td>A143</td>\n",
       "      <td>A152</td>\n",
       "      <td>1</td>\n",
       "      <td>A172</td>\n",
       "      <td>2</td>\n",
       "      <td>A191</td>\n",
       "      <td>A201</td>\n",
       "      <td>1</td>\n",
       "    </tr>\n",
       "    <tr>\n",
       "      <th>3</th>\n",
       "      <td>A11</td>\n",
       "      <td>42</td>\n",
       "      <td>A32</td>\n",
       "      <td>A42</td>\n",
       "      <td>7882</td>\n",
       "      <td>A61</td>\n",
       "      <td>A74</td>\n",
       "      <td>2</td>\n",
       "      <td>A93</td>\n",
       "      <td>A103</td>\n",
       "      <td>...</td>\n",
       "      <td>A122</td>\n",
       "      <td>45</td>\n",
       "      <td>A143</td>\n",
       "      <td>A153</td>\n",
       "      <td>1</td>\n",
       "      <td>A173</td>\n",
       "      <td>2</td>\n",
       "      <td>A191</td>\n",
       "      <td>A201</td>\n",
       "      <td>1</td>\n",
       "    </tr>\n",
       "    <tr>\n",
       "      <th>4</th>\n",
       "      <td>A11</td>\n",
       "      <td>24</td>\n",
       "      <td>A33</td>\n",
       "      <td>A40</td>\n",
       "      <td>4870</td>\n",
       "      <td>A61</td>\n",
       "      <td>A73</td>\n",
       "      <td>3</td>\n",
       "      <td>A93</td>\n",
       "      <td>A101</td>\n",
       "      <td>...</td>\n",
       "      <td>A124</td>\n",
       "      <td>53</td>\n",
       "      <td>A143</td>\n",
       "      <td>A153</td>\n",
       "      <td>2</td>\n",
       "      <td>A173</td>\n",
       "      <td>2</td>\n",
       "      <td>A191</td>\n",
       "      <td>A201</td>\n",
       "      <td>2</td>\n",
       "    </tr>\n",
       "  </tbody>\n",
       "</table>\n",
       "<p>5 rows × 21 columns</p>\n",
       "</div>"
      ],
      "text/plain": [
       "    0   1    2    3     4    5    6   7    8     9   ...    11  12    13  \\\n",
       "0  A11   6  A34  A43  1169  A65  A75   4  A93  A101  ...  A121  67  A143   \n",
       "1  A12  48  A32  A43  5951  A61  A73   2  A92  A101  ...  A121  22  A143   \n",
       "2  A14  12  A34  A46  2096  A61  A74   2  A93  A101  ...  A121  49  A143   \n",
       "3  A11  42  A32  A42  7882  A61  A74   2  A93  A103  ...  A122  45  A143   \n",
       "4  A11  24  A33  A40  4870  A61  A73   3  A93  A101  ...  A124  53  A143   \n",
       "\n",
       "     14 15    16 17    18    19 20  \n",
       "0  A152  2  A173  1  A192  A201  1  \n",
       "1  A152  1  A173  1  A191  A201  2  \n",
       "2  A152  1  A172  2  A191  A201  1  \n",
       "3  A153  1  A173  2  A191  A201  1  \n",
       "4  A153  2  A173  2  A191  A201  2  \n",
       "\n",
       "[5 rows x 21 columns]"
      ]
     },
     "execution_count": 3,
     "metadata": {},
     "output_type": "execute_result"
    }
   ],
   "source": [
    "data = pd.read_table(f'{datapath}/german.data', sep=' ', header=None)\n",
    "\n",
    "# opcional: import diretamente do repositório UCL\n",
    "#data = pd.read_table('https://archive.ics.uci.edu/ml/machine-learning-databases/statlog/german/german.data', \n",
    "#                     sep=' ', header=None)\n",
    "\n",
    "data.head()"
   ]
  },
  {
   "cell_type": "markdown",
   "id": "039bf4e6",
   "metadata": {},
   "source": [
    "### conferindo dimensões do dataset"
   ]
  },
  {
   "cell_type": "code",
   "execution_count": 4,
   "id": "607851c2",
   "metadata": {
    "ExecuteTime": {
     "end_time": "2021-07-27T23:14:49.895354Z",
     "start_time": "2021-07-27T23:14:49.892799Z"
    }
   },
   "outputs": [],
   "source": [
    "assert data.shape[0] == 1000, 'o dataset não contém o número correto de registros. Esperado: 1000 linhas'\n",
    "assert data.shape[1] == 21, 'o dataset não contém o número correto de colunas. Esperado: 20 features + resposta'"
   ]
  },
  {
   "cell_type": "markdown",
   "id": "e42a1d1c",
   "metadata": {
    "ExecuteTime": {
     "end_time": "2021-07-27T22:33:13.015972Z",
     "start_time": "2021-07-27T22:33:12.961297Z"
    }
   },
   "source": [
    "## nomeando colunas"
   ]
  },
  {
   "cell_type": "code",
   "execution_count": 5,
   "id": "cc38b4ea",
   "metadata": {
    "ExecuteTime": {
     "end_time": "2021-07-27T23:14:49.935722Z",
     "start_time": "2021-07-27T23:14:49.896904Z"
    }
   },
   "outputs": [],
   "source": [
    "col_names = [\n",
    "    'status_check_acc',\n",
    "    'duration',\n",
    "    'cred_history',\n",
    "    'purpose',\n",
    "    'cred_amount',\n",
    "    'savings',\n",
    "    'employment_since',\n",
    "    'installment',\n",
    "    'status_sex',\n",
    "    'other_deb',\n",
    "    'resid_since',\n",
    "    'property',\n",
    "    'age',\n",
    "    'other_installment',\n",
    "    'housing',\n",
    "    'n_creds',\n",
    "    'job',\n",
    "    'n_liable_people',\n",
    "    'tel',\n",
    "    'foreign',\n",
    "    'cred_score'   # Y variable (1 = Good, 2 = Bad)\n",
    "]"
   ]
  },
  {
   "cell_type": "code",
   "execution_count": 6,
   "id": "330f4fec",
   "metadata": {
    "ExecuteTime": {
     "end_time": "2021-07-27T23:14:49.981325Z",
     "start_time": "2021-07-27T23:14:49.937115Z"
    }
   },
   "outputs": [],
   "source": [
    "data.columns = col_names"
   ]
  },
  {
   "cell_type": "markdown",
   "id": "fb34a49b",
   "metadata": {},
   "source": [
    "## conferindo dtypes"
   ]
  },
  {
   "cell_type": "code",
   "execution_count": 7,
   "id": "481e69c9",
   "metadata": {
    "ExecuteTime": {
     "end_time": "2021-07-27T23:14:51.461690Z",
     "start_time": "2021-07-27T23:14:51.449666Z"
    }
   },
   "outputs": [
    {
     "data": {
      "text/plain": [
       "status_check_acc     object\n",
       "duration              int64\n",
       "cred_history         object\n",
       "purpose              object\n",
       "cred_amount           int64\n",
       "savings              object\n",
       "employment_since     object\n",
       "installment           int64\n",
       "status_sex           object\n",
       "other_deb            object\n",
       "resid_since           int64\n",
       "property             object\n",
       "age                   int64\n",
       "other_installment    object\n",
       "housing              object\n",
       "n_creds               int64\n",
       "job                  object\n",
       "n_liable_people       int64\n",
       "tel                  object\n",
       "foreign              object\n",
       "cred_score            int64\n",
       "dtype: object"
      ]
     },
     "execution_count": 7,
     "metadata": {},
     "output_type": "execute_result"
    }
   ],
   "source": [
    "data.dtypes"
   ]
  },
  {
   "cell_type": "markdown",
   "id": "1d297f78",
   "metadata": {},
   "source": [
    "As colunas numéricas foram corretamente identificadas como `int`. No entanto, as colunas de tipo `object` precisam ser convertidas para `category` a fim de otimizar seu tempo de processamento (formato mais otimizado pelo pandas para variáveis categóricas).\n",
    "\n",
    "**obs:** também vamos converter o formato da coluna cred_score por se tratar de uma categoria."
   ]
  },
  {
   "cell_type": "code",
   "execution_count": 8,
   "id": "6aa4fbe8",
   "metadata": {
    "ExecuteTime": {
     "end_time": "2021-07-27T23:14:55.775542Z",
     "start_time": "2021-07-27T23:14:55.736344Z"
    }
   },
   "outputs": [
    {
     "data": {
      "text/plain": [
       "status_check_acc     category\n",
       "duration                int64\n",
       "cred_history         category\n",
       "purpose              category\n",
       "cred_amount             int64\n",
       "savings              category\n",
       "employment_since     category\n",
       "installment             int64\n",
       "status_sex           category\n",
       "other_deb            category\n",
       "resid_since             int64\n",
       "property             category\n",
       "age                     int64\n",
       "other_installment    category\n",
       "housing              category\n",
       "n_creds                 int64\n",
       "job                  category\n",
       "n_liable_people         int64\n",
       "tel                  category\n",
       "foreign              category\n",
       "cred_score           category\n",
       "dtype: object"
      ]
     },
     "execution_count": 8,
     "metadata": {},
     "output_type": "execute_result"
    }
   ],
   "source": [
    "for col in data.columns:\n",
    "    if data[col].dtype == 'object' or col == 'cred_score':\n",
    "        data[col] = data[col].astype('category')\n",
    "        \n",
    "data.dtypes"
   ]
  },
  {
   "cell_type": "markdown",
   "id": "32663771",
   "metadata": {},
   "source": [
    "## conferindo *missing values*"
   ]
  },
  {
   "cell_type": "code",
   "execution_count": 17,
   "id": "88f4d644",
   "metadata": {
    "ExecuteTime": {
     "end_time": "2021-07-27T23:23:31.021821Z",
     "start_time": "2021-07-27T23:23:30.998712Z"
    }
   },
   "outputs": [],
   "source": [
    "missing_vals = data.isna().sum().reset_index().rename(columns={'index':'feature', 0:'n_missing'})\n",
    "\n",
    "for idx, row in missing_vals.iterrows():\n",
    "    if row['n_missing'] > 0:\n",
    "        print(f'Warning: há {row.n_missing} valores faltantes na coluna {row.feature}.')"
   ]
  },
  {
   "cell_type": "markdown",
   "id": "ab44dd59",
   "metadata": {},
   "source": [
    "**OBS:** Não foram identificados valores faltantes."
   ]
  },
  {
   "cell_type": "markdown",
   "id": "ca0832ff",
   "metadata": {},
   "source": [
    "## exportando em csv\n",
    "\n",
    "Por fins de organização, vou exportar a base de dados em CSV para uso em outros notebooks."
   ]
  },
  {
   "cell_type": "code",
   "execution_count": 18,
   "id": "f0e8965e",
   "metadata": {
    "ExecuteTime": {
     "end_time": "2021-07-27T23:24:40.788262Z",
     "start_time": "2021-07-27T23:24:40.776267Z"
    }
   },
   "outputs": [],
   "source": [
    "data.to_csv(f'{datapath}/data.csv')"
   ]
  },
  {
   "cell_type": "markdown",
   "id": "feb64582",
   "metadata": {},
   "source": [
    "**Fim!**\n",
    "\n",
    "<font color='red'>Confira os demais notebooks para visualizar análises descritivas/preditivas.</font>"
   ]
  }
 ],
 "metadata": {
  "kernelspec": {
   "display_name": "Python 3",
   "language": "python",
   "name": "python3"
  },
  "language_info": {
   "codemirror_mode": {
    "name": "ipython",
    "version": 3
   },
   "file_extension": ".py",
   "mimetype": "text/x-python",
   "name": "python",
   "nbconvert_exporter": "python",
   "pygments_lexer": "ipython3",
   "version": "3.9.5"
  },
  "toc": {
   "base_numbering": 1,
   "nav_menu": {},
   "number_sections": true,
   "sideBar": true,
   "skip_h1_title": false,
   "title_cell": "Table of Contents",
   "title_sidebar": "Contents",
   "toc_cell": false,
   "toc_position": {},
   "toc_section_display": true,
   "toc_window_display": false
  },
  "varInspector": {
   "cols": {
    "lenName": 16,
    "lenType": 16,
    "lenVar": 40
   },
   "kernels_config": {
    "python": {
     "delete_cmd_postfix": "",
     "delete_cmd_prefix": "del ",
     "library": "var_list.py",
     "varRefreshCmd": "print(var_dic_list())"
    },
    "r": {
     "delete_cmd_postfix": ") ",
     "delete_cmd_prefix": "rm(",
     "library": "var_list.r",
     "varRefreshCmd": "cat(var_dic_list()) "
    }
   },
   "types_to_exclude": [
    "module",
    "function",
    "builtin_function_or_method",
    "instance",
    "_Feature"
   ],
   "window_display": false
  }
 },
 "nbformat": 4,
 "nbformat_minor": 5
}
