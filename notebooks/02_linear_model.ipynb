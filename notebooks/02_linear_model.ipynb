{
 "cells": [
  {
   "cell_type": "markdown",
   "id": "3542702d",
   "metadata": {},
   "source": [
    "# Linear model\n",
    "\n",
    "Nesse notebook, será desenvolvida uma análise preditiva com modelos lineares de regressão logística com regularização do tipo Lasso, Ridge e ElasticNet."
   ]
  },
  {
   "cell_type": "code",
   "execution_count": 164,
   "id": "3e4428f9",
   "metadata": {
    "ExecuteTime": {
     "end_time": "2021-07-29T20:55:40.859267Z",
     "start_time": "2021-07-29T20:55:40.852593Z"
    }
   },
   "outputs": [],
   "source": [
    "import pickle\n",
    "import numpy as np\n",
    "import pandas as pd\n",
    "import seaborn as sns\n",
    "import matplotlib.pyplot as plt\n",
    "\n",
    "from pathlib import Path\n",
    "from datetime import datetime\n",
    "\n",
    "# sklearn\n",
    "from sklearn.linear_model import LogisticRegression\n",
    "from sklearn.preprocessing import scale\n",
    "from sklearn.model_selection import train_test_split, GridSearchCV, cross_val_score\n",
    "from sklearn.metrics import mean_squared_error as MSE\n",
    "from sklearn.metrics import classification_report, confusion_matrix, roc_auc_score, roc_curve\n",
    "from sklearn.metrics import accuracy_score, balanced_accuracy_score, f1_score, precision_score, recall_score\n",
    "#from sklearn.pipeline import Pipeline"
   ]
  },
  {
   "cell_type": "code",
   "execution_count": 2,
   "id": "7463bf0a",
   "metadata": {
    "ExecuteTime": {
     "end_time": "2021-07-29T20:09:15.520959Z",
     "start_time": "2021-07-29T20:09:15.515910Z"
    }
   },
   "outputs": [],
   "source": [
    "%matplotlib inline\n",
    "\n",
    "sns.set(font_scale=0.9)\n",
    "\n",
    "# seed padrão\n",
    "seed = 101"
   ]
  },
  {
   "cell_type": "markdown",
   "id": "ec98d062",
   "metadata": {},
   "source": [
    "## Importando dataset"
   ]
  },
  {
   "cell_type": "code",
   "execution_count": 198,
   "id": "fdfd8487",
   "metadata": {
    "ExecuteTime": {
     "end_time": "2021-07-29T21:30:21.786775Z",
     "start_time": "2021-07-29T21:30:21.775491Z"
    }
   },
   "outputs": [],
   "source": [
    "datapath = Path('../data')\n",
    "outpath = Path('../models')\n",
    "\n",
    "with open(f'{datapath}/data.pickle', 'rb') as file:\n",
    "    data = pickle.load(file)"
   ]
  },
  {
   "cell_type": "code",
   "execution_count": 4,
   "id": "46bcd417",
   "metadata": {
    "ExecuteTime": {
     "end_time": "2021-07-29T20:09:18.482122Z",
     "start_time": "2021-07-29T20:09:18.453923Z"
    }
   },
   "outputs": [
    {
     "data": {
      "text/html": [
       "<div>\n",
       "<style scoped>\n",
       "    .dataframe tbody tr th:only-of-type {\n",
       "        vertical-align: middle;\n",
       "    }\n",
       "\n",
       "    .dataframe tbody tr th {\n",
       "        vertical-align: top;\n",
       "    }\n",
       "\n",
       "    .dataframe thead th {\n",
       "        text-align: right;\n",
       "    }\n",
       "</style>\n",
       "<table border=\"1\" class=\"dataframe\">\n",
       "  <thead>\n",
       "    <tr style=\"text-align: right;\">\n",
       "      <th></th>\n",
       "      <th>status_check_acc</th>\n",
       "      <th>duration</th>\n",
       "      <th>cred_history</th>\n",
       "      <th>purpose</th>\n",
       "      <th>cred_amount</th>\n",
       "      <th>savings</th>\n",
       "      <th>employment_since</th>\n",
       "      <th>installment</th>\n",
       "      <th>other_deb</th>\n",
       "      <th>resid_since</th>\n",
       "      <th>...</th>\n",
       "      <th>other_installment</th>\n",
       "      <th>housing</th>\n",
       "      <th>n_creds</th>\n",
       "      <th>job</th>\n",
       "      <th>n_liable_people</th>\n",
       "      <th>tel</th>\n",
       "      <th>foreign</th>\n",
       "      <th>cred_score</th>\n",
       "      <th>gender</th>\n",
       "      <th>social_status</th>\n",
       "    </tr>\n",
       "  </thead>\n",
       "  <tbody>\n",
       "    <tr>\n",
       "      <th>0</th>\n",
       "      <td>0 DM</td>\n",
       "      <td>6</td>\n",
       "      <td>critical</td>\n",
       "      <td>radio/television</td>\n",
       "      <td>1169.0</td>\n",
       "      <td>None</td>\n",
       "      <td>&gt;= 7 years</td>\n",
       "      <td>4</td>\n",
       "      <td>None</td>\n",
       "      <td>4</td>\n",
       "      <td>...</td>\n",
       "      <td>none</td>\n",
       "      <td>own</td>\n",
       "      <td>2</td>\n",
       "      <td>skilled</td>\n",
       "      <td>1</td>\n",
       "      <td>1</td>\n",
       "      <td>1</td>\n",
       "      <td>0</td>\n",
       "      <td>M</td>\n",
       "      <td>single</td>\n",
       "    </tr>\n",
       "    <tr>\n",
       "      <th>1</th>\n",
       "      <td>&lt;200 DM</td>\n",
       "      <td>48</td>\n",
       "      <td>all paid</td>\n",
       "      <td>radio/television</td>\n",
       "      <td>5951.0</td>\n",
       "      <td>&lt;100 DM</td>\n",
       "      <td>&lt; 4 years</td>\n",
       "      <td>2</td>\n",
       "      <td>None</td>\n",
       "      <td>2</td>\n",
       "      <td>...</td>\n",
       "      <td>none</td>\n",
       "      <td>own</td>\n",
       "      <td>1</td>\n",
       "      <td>skilled</td>\n",
       "      <td>1</td>\n",
       "      <td>0</td>\n",
       "      <td>1</td>\n",
       "      <td>1</td>\n",
       "      <td>F</td>\n",
       "      <td>divorced/separated</td>\n",
       "    </tr>\n",
       "  </tbody>\n",
       "</table>\n",
       "<p>2 rows × 22 columns</p>\n",
       "</div>"
      ],
      "text/plain": [
       "  status_check_acc  duration cred_history           purpose  cred_amount  \\\n",
       "0             0 DM         6     critical  radio/television       1169.0   \n",
       "1          <200 DM        48     all paid  radio/television       5951.0   \n",
       "\n",
       "   savings employment_since  installment other_deb  resid_since  ...  \\\n",
       "0     None       >= 7 years            4      None            4  ...   \n",
       "1  <100 DM        < 4 years            2      None            2  ...   \n",
       "\n",
       "  other_installment  housing n_creds      job  n_liable_people tel  foreign  \\\n",
       "0              none      own       2  skilled                1   1        1   \n",
       "1              none      own       1  skilled                1   0        1   \n",
       "\n",
       "  cred_score gender       social_status  \n",
       "0          0      M              single  \n",
       "1          1      F  divorced/separated  \n",
       "\n",
       "[2 rows x 22 columns]"
      ]
     },
     "execution_count": 4,
     "metadata": {},
     "output_type": "execute_result"
    }
   ],
   "source": [
    "data.head(2)"
   ]
  },
  {
   "cell_type": "markdown",
   "id": "808bfccc",
   "metadata": {},
   "source": [
    "## Separando variáveis preditoras e dependente (X e y)"
   ]
  },
  {
   "cell_type": "code",
   "execution_count": 5,
   "id": "13c0f98b",
   "metadata": {
    "ExecuteTime": {
     "end_time": "2021-07-29T20:09:20.103995Z",
     "start_time": "2021-07-29T20:09:20.092249Z"
    }
   },
   "outputs": [],
   "source": [
    "X = data.drop('cred_score', axis=1).copy()\n",
    "y = data['cred_score'].copy()"
   ]
  },
  {
   "cell_type": "markdown",
   "id": "8d18e3cc",
   "metadata": {},
   "source": [
    "## Padronizando variáveis numéricas contínuas\n",
    "\n",
    "As variáveis numéricas, porém discretas, serão tratadas como categóricas. No entanto, não serão sujeitas ao processo de `OneHotEncoding`."
   ]
  },
  {
   "cell_type": "code",
   "execution_count": 7,
   "id": "9e81896c",
   "metadata": {
    "ExecuteTime": {
     "end_time": "2021-07-29T20:09:33.831326Z",
     "start_time": "2021-07-29T20:09:33.826363Z"
    }
   },
   "outputs": [
    {
     "name": "stdout",
     "output_type": "stream",
     "text": [
      "['cred_amount']\n"
     ]
    }
   ],
   "source": [
    "continuous_vars = [col for col in X.columns if X[col].dtype == 'float']\n",
    "print(continuous_vars)"
   ]
  },
  {
   "cell_type": "code",
   "execution_count": 6,
   "id": "9c6dc365",
   "metadata": {
    "ExecuteTime": {
     "end_time": "2021-07-29T20:09:21.500943Z",
     "start_time": "2021-07-29T20:09:21.190335Z"
    }
   },
   "outputs": [
    {
     "data": {
      "text/plain": [
       "<AxesSubplot:xlabel='cred_amount', ylabel='Count'>"
      ]
     },
     "execution_count": 6,
     "metadata": {},
     "output_type": "execute_result"
    },
    {
     "data": {
      "image/png": "[encoded data removed]",
      "text/plain": [
       "<Figure size 432x288 with 1 Axes>"
      ]
     },
     "metadata": {},
     "output_type": "display_data"
    }
   ],
   "source": [
    "sns.histplot(X['cred_amount'])"
   ]
  },
  {
   "cell_type": "markdown",
   "id": "70b6fcb9",
   "metadata": {
    "ExecuteTime": {
     "end_time": "2021-07-29T19:48:29.060388Z",
     "start_time": "2021-07-29T19:48:29.054539Z"
    }
   },
   "source": [
    "**OBS:** como podemos inferir a partir do histograma acima, a variável cred_amount não segue uma distribuição normal. Assim, vamos apenas padronizá-la de forma que apenas a sua escala seja ajustada em torno de uma variância 1."
   ]
  },
  {
   "cell_type": "code",
   "execution_count": 9,
   "id": "5e03c8d8",
   "metadata": {
    "ExecuteTime": {
     "end_time": "2021-07-29T20:11:21.330128Z",
     "start_time": "2021-07-29T20:11:21.325248Z"
    }
   },
   "outputs": [],
   "source": [
    "X['cred_amount'] = scale(X['cred_amount'])"
   ]
  },
  {
   "cell_type": "code",
   "execution_count": 10,
   "id": "abd9ad77",
   "metadata": {
    "ExecuteTime": {
     "end_time": "2021-07-29T20:11:27.095636Z",
     "start_time": "2021-07-29T20:11:26.828000Z"
    }
   },
   "outputs": [
    {
     "data": {
      "text/plain": [
       "<AxesSubplot:xlabel='cred_amount', ylabel='Count'>"
      ]
     },
     "execution_count": 10,
     "metadata": {},
     "output_type": "execute_result"
    },
    {
     "data": {
      "image/png": "[encoded data removed]",
      "text/plain": [
       "<Figure size 432x288 with 1 Axes>"
      ]
     },
     "metadata": {},
     "output_type": "display_data"
    }
   ],
   "source": [
    "sns.histplot(X['cred_amount'])"
   ]
  },
  {
   "cell_type": "markdown",
   "id": "8e52d0d8",
   "metadata": {},
   "source": [
    "## OneHotEncoding\n",
    "\n",
    "Nesse passo, vamos converter todas as variáveis categóricas em dummies."
   ]
  },
  {
   "cell_type": "code",
   "execution_count": 11,
   "id": "bd160c25",
   "metadata": {
    "ExecuteTime": {
     "end_time": "2021-07-29T20:11:43.553844Z",
     "start_time": "2021-07-29T20:11:43.544331Z"
    }
   },
   "outputs": [
    {
     "name": "stdout",
     "output_type": "stream",
     "text": [
      "categorical_vars:  ['status_check_acc', 'cred_history', 'purpose', 'savings', 'employment_since', 'other_deb', 'property', 'other_installment', 'housing', 'job', 'tel', 'foreign', 'gender', 'social_status']\n",
      "\n",
      "numerical_vars:  ['duration', 'cred_amount', 'installment', 'resid_since', 'age', 'n_creds', 'n_liable_people']\n"
     ]
    }
   ],
   "source": [
    "categorical_vars = [col for col in X.columns if X[col].dtype not in ['int', 'float']]\n",
    "numerical_vars = [col for col in X.columns if col not in categorical_vars]\n",
    "\n",
    "print('categorical_vars: ',categorical_vars)\n",
    "print('\\nnumerical_vars: ',numerical_vars)"
   ]
  },
  {
   "cell_type": "code",
   "execution_count": 12,
   "id": "698d4262",
   "metadata": {
    "ExecuteTime": {
     "end_time": "2021-07-29T20:11:44.735354Z",
     "start_time": "2021-07-29T20:11:44.720740Z"
    }
   },
   "outputs": [],
   "source": [
    "# criando dummies\n",
    "X_dummy = pd.get_dummies(X[categorical_vars], drop_first=True)"
   ]
  },
  {
   "cell_type": "code",
   "execution_count": 13,
   "id": "eebef95c",
   "metadata": {
    "ExecuteTime": {
     "end_time": "2021-07-29T20:11:45.321809Z",
     "start_time": "2021-07-29T20:11:45.310531Z"
    }
   },
   "outputs": [],
   "source": [
    "# agregando ao conjunto de features X\n",
    "X = pd.concat([X[numerical_vars], X_dummy], axis=1)"
   ]
  },
  {
   "cell_type": "markdown",
   "id": "e9f3a1a3",
   "metadata": {},
   "source": [
    "## Train Test Split\n",
    "\n",
    "Nesse passo, vamos separar um conjunto de treino e um de teste (_holdout_) para posterior avaliação fora da amostra. Como a amostra contém apenas 1000 registros, reservaremos 20% para compor o conjunto de teste. Será selecionado o modelo com o melhor *cross_validation_score* dentro da amostra de treino.\n",
    "\n",
    "**OBS:** é importante que seja definido o parâmetro `stratify` para que sejam mantidas as mesmas proporções de clientes com score bom e ruim observadas na amostra."
   ]
  },
  {
   "cell_type": "code",
   "execution_count": 14,
   "id": "38a3063d",
   "metadata": {
    "ExecuteTime": {
     "end_time": "2021-07-29T20:11:46.704232Z",
     "start_time": "2021-07-29T20:11:46.695933Z"
    }
   },
   "outputs": [],
   "source": [
    "X_train, X_holdout, y_train, y_holdout = train_test_split(X, y, stratify=y, test_size=0.2, random_state=seed)"
   ]
  },
  {
   "cell_type": "markdown",
   "id": "2df236a0",
   "metadata": {},
   "source": [
    "## Estimando Regressão Logística\n",
    "\n",
    "Com esse modelo, esperamos ter uma primeira medida de performance para modelos lineares que será usada como benchmark para modelos de árvore.\n",
    "\n",
    "-----\n",
    "\n",
    "É importante, nesse passo, discutir qual métrica utilizar para avaliar o modelo, levando em consideração o desbalanceamento observado da amostra. \n",
    "\n",
    "Duas candidatas razoáveis são: `ROC AUC Score` e `f1`.\n",
    "\n",
    "Analisando o problema de negócio sob a ótica do Banco (agente que vai conceder o empréstimo), queremos evitar duas situações: \n",
    "\n",
    "1. Emprestar erroneamente recursos para um cliente classificado como de baixo risco, enquanto que, na verdade, o cliente é de alto risco (**Falso Positivo**).\n",
    "2. Não conceder crédito a um cliente de baixo risco classificado erroneamente como de alto risco. (**Falso Negativo**)\n",
    "\n",
    "**Raciocínio:** Em outras palavras, estamos interessados em reduzir, ao máximo, o número de Falsos Positivos e Falsos Negativos.\n",
    "\n",
    "\n",
    "-----\n",
    "<font color='red'>**OBS:**</font>\n",
    "No entanto, devemos atentar para o fato de que, em um dataset desbalanceado, o número de verdadeiros positivos tende a ser superestimado. Logo, a métrica `roc_auc_score` pode não ser a mais adequada para este problema devido à possibilidade de esta ser superestimada. \n",
    "\n",
    "Sendo assim, vamos prosseguir a análise utilizando a métrica `f1` para priorizar `precision` e `recall`.\n",
    "\n",
    "$$ \n",
    "F_{\\beta} = (1+\\beta^2)\\frac{precicion*recall}{\\beta^2 * precision + recall}\n",
    "$$\n",
    "\n",
    "$$\n",
    "precision = \\frac{tp}{tp + fp},~~recall=\\frac{tn}{tn+fp}\n",
    "$$"
   ]
  },
  {
   "cell_type": "code",
   "execution_count": 142,
   "id": "b983d7a3",
   "metadata": {
    "ExecuteTime": {
     "end_time": "2021-07-29T20:43:56.089295Z",
     "start_time": "2021-07-29T20:43:56.082537Z"
    }
   },
   "outputs": [],
   "source": [
    "# grid de parâmetros\n",
    "param_grid={\"C\":np.logspace(-4,4,9), \"penalty\":[\"none\", \"elasticnet\", \"l2\"], # l1 lasso l2 ridge \n",
    "           \"class_weight\":[None,\"balanced\"], \n",
    "           \"solver\":['lbfgs', 'liblinear']} # default vs solver para datasets pequenos"
   ]
  },
  {
   "cell_type": "code",
   "execution_count": 177,
   "id": "a03a734e",
   "metadata": {
    "ExecuteTime": {
     "end_time": "2021-07-29T21:04:39.610617Z",
     "start_time": "2021-07-29T21:04:36.305016Z"
    }
   },
   "outputs": [],
   "source": [
    "%%capture --no-display\n",
    "# capturando warnings (para alguns parãmetros do grid search, não houve convergência)\n",
    "\n",
    "start_train_time = datetime.now()\n",
    "\n",
    "logreg = LogisticRegression()\n",
    "logreg_cv = GridSearchCV(logreg, param_grid, cv=3, scoring='f1')  # 3 fold devido ao número de registros\n",
    "logreg_cv.fit(X_train, y_train)\n",
    "\n",
    "end_train_time = datetime.now()\n",
    "\n",
    "train_time = end_train_time - start_train_time"
   ]
  },
  {
   "cell_type": "code",
   "execution_count": 189,
   "id": "28fe39c2",
   "metadata": {
    "ExecuteTime": {
     "end_time": "2021-07-29T21:29:10.106926Z",
     "start_time": "2021-07-29T21:29:10.096198Z"
    }
   },
   "outputs": [
    {
     "name": "stdout",
     "output_type": "stream",
     "text": [
      "Logistic Regression best params: {'C': 0.1, 'class_weight': 'balanced', 'penalty': 'l2', 'solver': 'liblinear'}\n",
      "Logistic Regression best F1 score: 0.5910029030596406\n"
     ]
    }
   ],
   "source": [
    "print('Logistic Regression best params:', logreg_cv.best_params_)\n",
    "print('Logistic Regression best F1 score:', logreg_cv.best_score_)"
   ]
  },
  {
   "cell_type": "markdown",
   "id": "2e641a32",
   "metadata": {},
   "source": [
    "### Avaliando o modelo de Regressão Logística\n",
    "\n",
    "vamos começar avaliando o modelo no conjunto holdout"
   ]
  },
  {
   "cell_type": "code",
   "execution_count": 190,
   "id": "1618572c",
   "metadata": {
    "ExecuteTime": {
     "end_time": "2021-07-29T21:29:14.889646Z",
     "start_time": "2021-07-29T21:29:14.874738Z"
    }
   },
   "outputs": [],
   "source": [
    "start_eval_time = datetime.now()\n",
    "\n",
    "y_pred = logreg_cv.predict(X_holdout)  # calculando previsões com threshold de treino\n",
    "y_pred_proba = logreg_cv.predict_proba(X_holdout)[:,1]  # calculando probabilidades\n",
    "\n",
    "end_eval_time = datetime.now()\n",
    "\n",
    "eval_time = end_eval_time - start_eval_time"
   ]
  },
  {
   "cell_type": "markdown",
   "id": "7bf9d8f8",
   "metadata": {},
   "source": [
    "#### Matriz de Confusão e Relatório de Classificação\n",
    "\n",
    "Na matriz de confusão, temos as seguintes informações: \n",
    "\n",
    "$\n",
    "\\left[\n",
    "  \\begin{matrix}\n",
    "   tp & fp  \\\\\n",
    "   fn & tn  \n",
    "  \\end{matrix} \n",
    "\\right]\n",
    "  = \n",
    "\\left[\n",
    "  \\begin{matrix}\n",
    "   true~positives & false~positives  \\\\\n",
    "   false~negatives & true~negatives  \n",
    "  \\end{matrix}\n",
    "\\right]\n",
    "$"
   ]
  },
  {
   "cell_type": "code",
   "execution_count": 191,
   "id": "1f38bf82",
   "metadata": {
    "ExecuteTime": {
     "end_time": "2021-07-29T21:29:16.117655Z",
     "start_time": "2021-07-29T21:29:16.108151Z"
    }
   },
   "outputs": [
    {
     "name": "stdout",
     "output_type": "stream",
     "text": [
      "[[101  39]\n",
      " [ 18  42]]\n"
     ]
    }
   ],
   "source": [
    "print(confusion_matrix(y_holdout, y_pred))"
   ]
  },
  {
   "cell_type": "code",
   "execution_count": 192,
   "id": "8204062a",
   "metadata": {
    "ExecuteTime": {
     "end_time": "2021-07-29T21:29:18.043130Z",
     "start_time": "2021-07-29T21:29:18.031663Z"
    }
   },
   "outputs": [
    {
     "name": "stdout",
     "output_type": "stream",
     "text": [
      "              precision    recall  f1-score   support\n",
      "\n",
      "           0       0.85      0.72      0.78       140\n",
      "           1       0.52      0.70      0.60        60\n",
      "\n",
      "    accuracy                           0.71       200\n",
      "   macro avg       0.68      0.71      0.69       200\n",
      "weighted avg       0.75      0.71      0.72       200\n",
      "\n"
     ]
    }
   ],
   "source": [
    "print(classification_report(y_holdout, y_pred))"
   ]
  },
  {
   "cell_type": "markdown",
   "id": "cf7395db",
   "metadata": {},
   "source": [
    "#### Curva ROC\n",
    "\n",
    "Na presente aplicação, a curva ROC se faz relevante pois tende a ser insensível a conjuntos de dados com proporções de classes desbalanceadas. \n",
    "\n",
    "Isto posto, a área abaixo da curva ROC é uma importante métrica para avaliar o desempenho do modelo.\n",
    "\n",
    "----\n",
    "\n",
    "Vamos começar calculando as taxas de verdadeiros positivos e falsos positivos."
   ]
  },
  {
   "cell_type": "code",
   "execution_count": 193,
   "id": "9258204b",
   "metadata": {
    "ExecuteTime": {
     "end_time": "2021-07-29T21:29:18.667485Z",
     "start_time": "2021-07-29T21:29:18.659212Z"
    }
   },
   "outputs": [],
   "source": [
    "false_pos_rate, true_pos_rate, thresholds = roc_curve(y_holdout, y_pred_proba)"
   ]
  },
  {
   "cell_type": "code",
   "execution_count": 194,
   "id": "0a6851b8",
   "metadata": {
    "ExecuteTime": {
     "end_time": "2021-07-29T21:29:19.359533Z",
     "start_time": "2021-07-29T21:29:19.153378Z"
    }
   },
   "outputs": [
    {
     "data": {
      "text/plain": [
       "Text(0, 0.5, 'Taxa de Verdadeiros Positivos')"
      ]
     },
     "execution_count": 194,
     "metadata": {},
     "output_type": "execute_result"
    },
    {
     "data": {
      "image/png": "[encoded data removed]",
      "text/plain": [
       "<Figure size 432x288 with 1 Axes>"
      ]
     },
     "metadata": {},
     "output_type": "display_data"
    }
   ],
   "source": [
    "plt.plot(false_pos_rate, true_pos_rate)\n",
    "\n",
    "# labels\n",
    "plt.title('Curva ROC')\n",
    "plt.xlabel('Taxa de Falsos Positivos')\n",
    "plt.ylabel('Taxa de Verdadeiros Positivos')"
   ]
  },
  {
   "cell_type": "code",
   "execution_count": 202,
   "id": "7d667ee4",
   "metadata": {
    "ExecuteTime": {
     "end_time": "2021-07-29T21:33:48.698447Z",
     "start_time": "2021-07-29T21:33:48.686093Z"
    }
   },
   "outputs": [
    {
     "name": "stdout",
     "output_type": "stream",
     "text": [
      "ROC AUC score: 0.7107142857142857\n"
     ]
    }
   ],
   "source": [
    "auc_score = roc_auc_score(y_holdout, y_pred)\n",
    "print('ROC AUC score:', auc_score)"
   ]
  },
  {
   "cell_type": "markdown",
   "id": "bc20d834",
   "metadata": {},
   "source": [
    "## Sintetizando métricas e exportando modelo\n",
    "\n",
    "Avaliando e exportando métricas no conjunto holdout"
   ]
  },
  {
   "cell_type": "markdown",
   "id": "daa1aaac",
   "metadata": {},
   "source": [
    "### Mean Squared Error\n",
    "\n",
    "Para comparação com outros modelos"
   ]
  },
  {
   "cell_type": "code",
   "execution_count": 196,
   "id": "eeaf114a",
   "metadata": {
    "ExecuteTime": {
     "end_time": "2021-07-29T21:29:44.790861Z",
     "start_time": "2021-07-29T21:29:44.784220Z"
    }
   },
   "outputs": [],
   "source": [
    "mse = MSE(y_holdout, y_pred)\n",
    "rmse = mse**(1/2)"
   ]
  },
  {
   "cell_type": "markdown",
   "id": "4a9e64f9",
   "metadata": {},
   "source": [
    "### Exportando métricas"
   ]
  },
  {
   "cell_type": "code",
   "execution_count": 219,
   "id": "da50f05f",
   "metadata": {
    "ExecuteTime": {
     "end_time": "2021-07-29T21:46:30.561580Z",
     "start_time": "2021-07-29T21:46:30.544192Z"
    }
   },
   "outputs": [],
   "source": [
    "precision = precision_score(y_holdout, y_pred)\n",
    "recall = recall_score(y_holdout, y_pred)\n",
    "accuracy = accuracy_score(y_holdout, y_pred)\n",
    "balanced_accuracy = balanced_accuracy_score(y_holdout, y_pred)\n",
    "f1 = f1_score(y_holdout, y_pred)\n",
    "\n",
    "# confusion_matrix\n",
    "matrix = confusion_matrix(y_holdout, y_pred)"
   ]
  },
  {
   "cell_type": "code",
   "execution_count": 220,
   "id": "037401b4",
   "metadata": {
    "ExecuteTime": {
     "end_time": "2021-07-29T21:46:32.112194Z",
     "start_time": "2021-07-29T21:46:32.105556Z"
    }
   },
   "outputs": [],
   "source": [
    "metrics_dict = {\n",
    "    'precision'        : precision,\n",
    "    'recall'           : recall,\n",
    "    'accuracy'         : accuracy,\n",
    "    'balanced_accuracy': balanced_accuracy,\n",
    "    'f1'               : f1,\n",
    "    'roc_auc_score'    : auc_score,\n",
    "    'confusion_matrix' : matrix,\n",
    "    'train_time'       : train_time,\n",
    "    'eval_time'        : eval_time\n",
    "}"
   ]
  },
  {
   "cell_type": "markdown",
   "id": "0965bad2",
   "metadata": {},
   "source": [
    "### Exportando métricas"
   ]
  },
  {
   "cell_type": "code",
   "execution_count": 221,
   "id": "b6e5dc52",
   "metadata": {
    "ExecuteTime": {
     "end_time": "2021-07-29T21:46:33.645420Z",
     "start_time": "2021-07-29T21:46:33.638752Z"
    }
   },
   "outputs": [],
   "source": [
    "with open(f'{outpath}/logistic_regression_holdout_metrics.pickle', 'wb') as file:\n",
    "    pickle.dump(metrics_dict, file)"
   ]
  },
  {
   "cell_type": "markdown",
   "id": "804ea61a",
   "metadata": {},
   "source": [
    "### Exportando modelo"
   ]
  },
  {
   "cell_type": "code",
   "execution_count": 222,
   "id": "e8a6e59d",
   "metadata": {
    "ExecuteTime": {
     "end_time": "2021-07-29T21:46:34.666868Z",
     "start_time": "2021-07-29T21:46:34.662063Z"
    }
   },
   "outputs": [],
   "source": [
    "best_model = logreg_cv.best_estimator_"
   ]
  },
  {
   "cell_type": "code",
   "execution_count": 223,
   "id": "1fd766ea",
   "metadata": {
    "ExecuteTime": {
     "end_time": "2021-07-29T21:46:35.513135Z",
     "start_time": "2021-07-29T21:46:35.509841Z"
    }
   },
   "outputs": [],
   "source": [
    "with open(f'{outpath}/logistic_regression.pickle', 'wb') as file:\n",
    "    pickle.dump(best_model, file)"
   ]
  },
  {
   "cell_type": "markdown",
   "id": "728cac89",
   "metadata": {},
   "source": [
    "**Fim!**"
   ]
  }
 ],
 "metadata": {
  "kernelspec": {
   "display_name": "Python 3",
   "language": "python",
   "name": "python3"
  },
  "language_info": {
   "codemirror_mode": {
    "name": "ipython",
    "version": 3
   },
   "file_extension": ".py",
   "mimetype": "text/x-python",
   "name": "python",
   "nbconvert_exporter": "python",
   "pygments_lexer": "ipython3",
   "version": "3.9.5"
  },
  "toc": {
   "base_numbering": 1,
   "nav_menu": {},
   "number_sections": true,
   "sideBar": true,
   "skip_h1_title": false,
   "title_cell": "Table of Contents",
   "title_sidebar": "Contents",
   "toc_cell": false,
   "toc_position": {},
   "toc_section_display": true,
   "toc_window_display": false
  },
  "varInspector": {
   "cols": {
    "lenName": 16,
    "lenType": 16,
    "lenVar": 40
   },
   "kernels_config": {
    "python": {
     "delete_cmd_postfix": "",
     "delete_cmd_prefix": "del ",
     "library": "var_list.py",
     "varRefreshCmd": "print(var_dic_list())"
    },
    "r": {
     "delete_cmd_postfix": ") ",
     "delete_cmd_prefix": "rm(",
     "library": "var_list.r",
     "varRefreshCmd": "cat(var_dic_list()) "
    }
   },
   "types_to_exclude": [
    "module",
    "function",
    "builtin_function_or_method",
    "instance",
    "_Feature"
   ],
   "window_display": false
  }
 },
 "nbformat": 4,
 "nbformat_minor": 5
}
