{
 "cells": [
  {
   "cell_type": "markdown",
   "id": "afdc14b7",
   "metadata": {},
   "source": [
    "# Exploratory Data Analysis\n",
    "\n",
    "Nesse notebook, é conduzida uma análise exploratória de dados a fim de analisar a distribuição individual das variáveis e suas interrelações a fim de extrair insights para a etapa de modelagem preditiva. "
   ]
  },
  {
   "cell_type": "code",
   "execution_count": 11,
   "id": "7f7d2f1e",
   "metadata": {
    "ExecuteTime": {
     "end_time": "2021-07-27T23:34:15.259384Z",
     "start_time": "2021-07-27T23:34:15.253473Z"
    }
   },
   "outputs": [],
   "source": [
    "import pickle\n",
    "import numpy as np\n",
    "import pandas as pd\n",
    "import seaborn as sns\n",
    "import matplotlib.pyplot as plt\n",
    "\n",
    "from pathlib import Path"
   ]
  },
  {
   "cell_type": "markdown",
   "id": "b6ab3b63",
   "metadata": {},
   "source": [
    "## importando dataset"
   ]
  },
  {
   "cell_type": "code",
   "execution_count": 12,
   "id": "36a2b984",
   "metadata": {
    "ExecuteTime": {
     "end_time": "2021-07-27T23:35:07.151254Z",
     "start_time": "2021-07-27T23:35:07.141969Z"
    }
   },
   "outputs": [],
   "source": [
    "datapath = Path('../data')\n",
    "\n",
    "with open(f'{datapath}/data.pickle', 'rb') as file:\n",
    "    data = pickle.load(file)"
   ]
  },
  {
   "cell_type": "markdown",
   "id": "b53d58ad",
   "metadata": {
    "ExecuteTime": {
     "end_time": "2021-07-27T23:35:16.775762Z",
     "start_time": "2021-07-27T23:35:16.770361Z"
    }
   },
   "source": [
    "## Analisando variável resposta `cred_score`\n",
    "\n",
    "Relembrando...\n",
    "\n",
    "```bash\n",
    "    1 = bom\n",
    "    2 = ruim\n",
    "```"
   ]
  },
  {
   "cell_type": "code",
   "execution_count": 15,
   "id": "19d1b0c0",
   "metadata": {
    "ExecuteTime": {
     "end_time": "2021-07-27T23:36:52.532808Z",
     "start_time": "2021-07-27T23:36:52.518733Z"
    }
   },
   "outputs": [
    {
     "data": {
      "text/plain": [
       "1    700\n",
       "2    300\n",
       "Name: cred_score, dtype: int64"
      ]
     },
     "execution_count": 15,
     "metadata": {},
     "output_type": "execute_result"
    }
   ],
   "source": [
    "data['cred_score'].value_counts()"
   ]
  }
 ],
 "metadata": {
  "kernelspec": {
   "display_name": "Python 3",
   "language": "python",
   "name": "python3"
  },
  "language_info": {
   "codemirror_mode": {
    "name": "ipython",
    "version": 3
   },
   "file_extension": ".py",
   "mimetype": "text/x-python",
   "name": "python",
   "nbconvert_exporter": "python",
   "pygments_lexer": "ipython3",
   "version": "3.9.5"
  },
  "toc": {
   "base_numbering": 1,
   "nav_menu": {},
   "number_sections": true,
   "sideBar": true,
   "skip_h1_title": false,
   "title_cell": "Table of Contents",
   "title_sidebar": "Contents",
   "toc_cell": false,
   "toc_position": {},
   "toc_section_display": true,
   "toc_window_display": false
  },
  "varInspector": {
   "cols": {
    "lenName": 16,
    "lenType": 16,
    "lenVar": 40
   },
   "kernels_config": {
    "python": {
     "delete_cmd_postfix": "",
     "delete_cmd_prefix": "del ",
     "library": "var_list.py",
     "varRefreshCmd": "print(var_dic_list())"
    },
    "r": {
     "delete_cmd_postfix": ") ",
     "delete_cmd_prefix": "rm(",
     "library": "var_list.r",
     "varRefreshCmd": "cat(var_dic_list()) "
    }
   },
   "types_to_exclude": [
    "module",
    "function",
    "builtin_function_or_method",
    "instance",
    "_Feature"
   ],
   "window_display": false
  }
 },
 "nbformat": 4,
 "nbformat_minor": 5
}
