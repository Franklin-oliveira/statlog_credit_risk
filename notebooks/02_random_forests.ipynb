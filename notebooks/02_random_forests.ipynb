{
 "cells": [
  {
   "cell_type": "markdown",
   "id": "bfded4e3",
   "metadata": {},
   "source": [
    "# Random Forests\n",
    "\n",
    "Nesse notebook, será desenvolvida uma análise preditiva com modelos de ensemble, Random Forest."
   ]
  },
  {
   "cell_type": "code",
   "execution_count": 1,
   "id": "15c21884",
   "metadata": {
    "ExecuteTime": {
     "end_time": "2021-07-30T00:35:09.228592Z",
     "start_time": "2021-07-30T00:35:08.219151Z"
    }
   },
   "outputs": [],
   "source": [
    "import pickle\n",
    "import numpy as np\n",
    "import pandas as pd\n",
    "import seaborn as sns\n",
    "import matplotlib.pyplot as plt\n",
    "\n",
    "from pathlib import Path\n",
    "from datetime import datetime\n",
    "from collections import defaultdict\n",
    "\n",
    "# sklearn\n",
    "from sklearn.ensemble import RandomForestClassifier\n",
    "from sklearn.preprocessing import scale, LabelEncoder\n",
    "from sklearn.model_selection import train_test_split, GridSearchCV, cross_val_score\n",
    "from sklearn.metrics import mean_squared_error as MSE\n",
    "from sklearn.metrics import classification_report, confusion_matrix, roc_auc_score, roc_curve\n",
    "from sklearn.metrics import accuracy_score, balanced_accuracy_score, f1_score, precision_score, recall_score\n",
    "#from sklearn.pipeline import Pipeline"
   ]
  },
  {
   "cell_type": "code",
   "execution_count": 2,
   "id": "3a94ef1d",
   "metadata": {
    "ExecuteTime": {
     "end_time": "2021-07-30T00:35:09.237675Z",
     "start_time": "2021-07-30T00:35:09.230278Z"
    }
   },
   "outputs": [],
   "source": [
    "%matplotlib inline\n",
    "\n",
    "sns.set(font_scale=0.9)\n",
    "\n",
    "# seed padrão\n",
    "seed = 101"
   ]
  },
  {
   "cell_type": "markdown",
   "id": "59bc6b84",
   "metadata": {},
   "source": [
    "## Importando dataset"
   ]
  },
  {
   "cell_type": "code",
   "execution_count": 3,
   "id": "1ee4b64d",
   "metadata": {
    "ExecuteTime": {
     "end_time": "2021-07-30T00:35:09.289823Z",
     "start_time": "2021-07-30T00:35:09.240267Z"
    }
   },
   "outputs": [],
   "source": [
    "datapath = Path('../data')\n",
    "outpath = Path('../models')\n",
    "\n",
    "with open(f'{datapath}/data.pickle', 'rb') as file:\n",
    "    data = pickle.load(file)"
   ]
  },
  {
   "cell_type": "code",
   "execution_count": 4,
   "id": "1719ca34",
   "metadata": {
    "ExecuteTime": {
     "end_time": "2021-07-30T00:35:09.359770Z",
     "start_time": "2021-07-30T00:35:09.291917Z"
    }
   },
   "outputs": [
    {
     "data": {
      "text/html": [
       "<div>\n",
       "<style scoped>\n",
       "    .dataframe tbody tr th:only-of-type {\n",
       "        vertical-align: middle;\n",
       "    }\n",
       "\n",
       "    .dataframe tbody tr th {\n",
       "        vertical-align: top;\n",
       "    }\n",
       "\n",
       "    .dataframe thead th {\n",
       "        text-align: right;\n",
       "    }\n",
       "</style>\n",
       "<table border=\"1\" class=\"dataframe\">\n",
       "  <thead>\n",
       "    <tr style=\"text-align: right;\">\n",
       "      <th></th>\n",
       "      <th>status_check_acc</th>\n",
       "      <th>duration</th>\n",
       "      <th>cred_history</th>\n",
       "      <th>purpose</th>\n",
       "      <th>cred_amount</th>\n",
       "      <th>savings</th>\n",
       "      <th>employment_since</th>\n",
       "      <th>installment</th>\n",
       "      <th>other_deb</th>\n",
       "      <th>resid_since</th>\n",
       "      <th>...</th>\n",
       "      <th>other_installment</th>\n",
       "      <th>housing</th>\n",
       "      <th>n_creds</th>\n",
       "      <th>job</th>\n",
       "      <th>n_liable_people</th>\n",
       "      <th>tel</th>\n",
       "      <th>foreign</th>\n",
       "      <th>cred_score</th>\n",
       "      <th>gender</th>\n",
       "      <th>social_status</th>\n",
       "    </tr>\n",
       "  </thead>\n",
       "  <tbody>\n",
       "    <tr>\n",
       "      <th>0</th>\n",
       "      <td>0 DM</td>\n",
       "      <td>6</td>\n",
       "      <td>critical</td>\n",
       "      <td>radio/television</td>\n",
       "      <td>1169.0</td>\n",
       "      <td>None</td>\n",
       "      <td>&gt;= 7 years</td>\n",
       "      <td>4</td>\n",
       "      <td>None</td>\n",
       "      <td>4</td>\n",
       "      <td>...</td>\n",
       "      <td>none</td>\n",
       "      <td>own</td>\n",
       "      <td>2</td>\n",
       "      <td>skilled</td>\n",
       "      <td>1</td>\n",
       "      <td>1</td>\n",
       "      <td>1</td>\n",
       "      <td>0</td>\n",
       "      <td>M</td>\n",
       "      <td>single</td>\n",
       "    </tr>\n",
       "    <tr>\n",
       "      <th>1</th>\n",
       "      <td>&lt;200 DM</td>\n",
       "      <td>48</td>\n",
       "      <td>all paid</td>\n",
       "      <td>radio/television</td>\n",
       "      <td>5951.0</td>\n",
       "      <td>&lt;100 DM</td>\n",
       "      <td>&lt; 4 years</td>\n",
       "      <td>2</td>\n",
       "      <td>None</td>\n",
       "      <td>2</td>\n",
       "      <td>...</td>\n",
       "      <td>none</td>\n",
       "      <td>own</td>\n",
       "      <td>1</td>\n",
       "      <td>skilled</td>\n",
       "      <td>1</td>\n",
       "      <td>0</td>\n",
       "      <td>1</td>\n",
       "      <td>1</td>\n",
       "      <td>F</td>\n",
       "      <td>divorced/separated</td>\n",
       "    </tr>\n",
       "  </tbody>\n",
       "</table>\n",
       "<p>2 rows × 22 columns</p>\n",
       "</div>"
      ],
      "text/plain": [
       "  status_check_acc  duration cred_history           purpose  cred_amount  \\\n",
       "0             0 DM         6     critical  radio/television       1169.0   \n",
       "1          <200 DM        48     all paid  radio/television       5951.0   \n",
       "\n",
       "   savings employment_since  installment other_deb  resid_since  ...  \\\n",
       "0     None       >= 7 years            4      None            4  ...   \n",
       "1  <100 DM        < 4 years            2      None            2  ...   \n",
       "\n",
       "  other_installment  housing n_creds      job  n_liable_people tel  foreign  \\\n",
       "0              none      own       2  skilled                1   1        1   \n",
       "1              none      own       1  skilled                1   0        1   \n",
       "\n",
       "  cred_score gender       social_status  \n",
       "0          0      M              single  \n",
       "1          1      F  divorced/separated  \n",
       "\n",
       "[2 rows x 22 columns]"
      ]
     },
     "execution_count": 4,
     "metadata": {},
     "output_type": "execute_result"
    }
   ],
   "source": [
    "data.head(2)"
   ]
  },
  {
   "cell_type": "markdown",
   "id": "0d383053",
   "metadata": {},
   "source": [
    "## Separando variáveis preditoras e dependente (X e y)"
   ]
  },
  {
   "cell_type": "code",
   "execution_count": 5,
   "id": "29ff4a73",
   "metadata": {
    "ExecuteTime": {
     "end_time": "2021-07-30T00:35:09.403961Z",
     "start_time": "2021-07-30T00:35:09.361688Z"
    }
   },
   "outputs": [],
   "source": [
    "X = data.drop('cred_score', axis=1).copy()\n",
    "y = data['cred_score'].copy()"
   ]
  },
  {
   "cell_type": "markdown",
   "id": "dc4fce2c",
   "metadata": {},
   "source": [
    "## Padronizando variáveis numéricas contínuas\n",
    "\n",
    "As variáveis numéricas, porém discretas, serão tratadas como categóricas. No entanto, não serão sujeitas ao processo de `OneHotEncoding`.\n",
    "\n",
    "**OBS:** apesar de não ser necessário padronizar variáveis para se trabalhar com modelos de árvore, vou manter essa etapa por fins de consistência, dado que adotei esse procedimento para o modelo de regressão logística."
   ]
  },
  {
   "cell_type": "code",
   "execution_count": 6,
   "id": "b9d484ac",
   "metadata": {
    "ExecuteTime": {
     "end_time": "2021-07-30T00:35:09.474688Z",
     "start_time": "2021-07-30T00:35:09.406263Z"
    }
   },
   "outputs": [
    {
     "name": "stdout",
     "output_type": "stream",
     "text": [
      "['cred_amount']\n"
     ]
    }
   ],
   "source": [
    "continuous_vars = [col for col in X.columns if X[col].dtype == 'float']\n",
    "print(continuous_vars)"
   ]
  },
  {
   "cell_type": "code",
   "execution_count": 7,
   "id": "499a4334",
   "metadata": {
    "ExecuteTime": {
     "end_time": "2021-07-30T00:35:09.854890Z",
     "start_time": "2021-07-30T00:35:09.477177Z"
    }
   },
   "outputs": [
    {
     "data": {
      "text/plain": [
       "<AxesSubplot:xlabel='cred_amount', ylabel='Count'>"
      ]
     },
     "execution_count": 7,
     "metadata": {},
     "output_type": "execute_result"
    },
    {
     "data": {
      "image/png": "[encoded data removed]",
      "text/plain": [
       "<Figure size 432x288 with 1 Axes>"
      ]
     },
     "metadata": {},
     "output_type": "display_data"
    }
   ],
   "source": [
    "sns.histplot(X['cred_amount'])"
   ]
  },
  {
   "cell_type": "markdown",
   "id": "0dc8d202",
   "metadata": {
    "ExecuteTime": {
     "end_time": "2021-07-29T19:48:29.060388Z",
     "start_time": "2021-07-29T19:48:29.054539Z"
    }
   },
   "source": [
    "**OBS:** como podemos inferir a partir do histograma acima, a variável cred_amount não segue uma distribuição normal. Assim, vamos apenas padronizá-la de forma que apenas a sua escala seja ajustada em torno de uma variância 1."
   ]
  },
  {
   "cell_type": "code",
   "execution_count": 8,
   "id": "4576752e",
   "metadata": {
    "ExecuteTime": {
     "end_time": "2021-07-30T00:35:09.861826Z",
     "start_time": "2021-07-30T00:35:09.857589Z"
    }
   },
   "outputs": [],
   "source": [
    "X['cred_amount'] = scale(X['cred_amount'])"
   ]
  },
  {
   "cell_type": "code",
   "execution_count": 9,
   "id": "bc426694",
   "metadata": {
    "ExecuteTime": {
     "end_time": "2021-07-30T00:35:10.214699Z",
     "start_time": "2021-07-30T00:35:09.863867Z"
    }
   },
   "outputs": [
    {
     "data": {
      "text/plain": [
       "<AxesSubplot:xlabel='cred_amount', ylabel='Count'>"
      ]
     },
     "execution_count": 9,
     "metadata": {},
     "output_type": "execute_result"
    },
    {
     "data": {
      "image/png": "[encoded data removed]",
      "text/plain": [
       "<Figure size 432x288 with 1 Axes>"
      ]
     },
     "metadata": {},
     "output_type": "display_data"
    }
   ],
   "source": [
    "sns.histplot(X['cred_amount'])"
   ]
  },
  {
   "cell_type": "markdown",
   "id": "fd81609c",
   "metadata": {},
   "source": [
    "## Label Encoding\n",
    "\n",
    "Nesse passo, vamos dar um tratamento diferente às variáveis categóricas uma vez que `OneHotEncoding` pode prejudicar a performance de modelos de árvore ao criar um conjunto de features esparso. "
   ]
  },
  {
   "cell_type": "code",
   "execution_count": 10,
   "id": "4a74354e",
   "metadata": {
    "ExecuteTime": {
     "end_time": "2021-07-30T00:35:10.223961Z",
     "start_time": "2021-07-30T00:35:10.217181Z"
    }
   },
   "outputs": [
    {
     "name": "stdout",
     "output_type": "stream",
     "text": [
      "categorical_vars:  ['status_check_acc', 'cred_history', 'purpose', 'savings', 'employment_since', 'other_deb', 'property', 'other_installment', 'housing', 'job', 'tel', 'foreign', 'gender', 'social_status']\n",
      "\n",
      "numerical_vars:  ['duration', 'cred_amount', 'installment', 'resid_since', 'age', 'n_creds', 'n_liable_people']\n"
     ]
    }
   ],
   "source": [
    "categorical_vars = [col for col in X.columns if X[col].dtype not in ['int', 'float']]\n",
    "numerical_vars = [col for col in X.columns if col not in categorical_vars]\n",
    "\n",
    "print('categorical_vars: ',categorical_vars)\n",
    "print('\\nnumerical_vars: ',numerical_vars)"
   ]
  },
  {
   "cell_type": "code",
   "execution_count": 11,
   "id": "3ac49254",
   "metadata": {
    "ExecuteTime": {
     "end_time": "2021-07-30T00:35:10.304513Z",
     "start_time": "2021-07-30T00:35:10.225598Z"
    }
   },
   "outputs": [],
   "source": [
    "label_encoders = defaultdict()  # vou armazenar o encoder caso precise fazer a decodificação novamente\n",
    "\n",
    "for var in categorical_vars:\n",
    "    le = LabelEncoder()\n",
    "    label_encoders[var] = le.fit(X[var])\n",
    "    X[var] = label_encoders[var].transform(X[var])\n",
    "\n",
    "# para fazer a decodificação, basta executar o comando abaixo na coluna desejada\n",
    "# label_encoders['status_check_acc'].inverse_transform(X['status_check_acc'])"
   ]
  },
  {
   "cell_type": "markdown",
   "id": "98cc01aa",
   "metadata": {},
   "source": [
    "## Train Test Split\n",
    "\n",
    "Nesse passo, vamos separar um conjunto de treino e um de teste (_holdout_) para posterior avaliação fora da amostra. Como a amostra contém apenas 1000 registros, reservaremos 20% para compor o conjunto de teste. Será selecionado o modelo com o melhor *cross_validation_score* dentro da amostra de treino.\n",
    "\n",
    "**OBS:** é importante que seja definido o parâmetro `stratify` para que sejam mantidas as mesmas proporções de clientes com score bom e ruim observadas na amostra."
   ]
  },
  {
   "cell_type": "code",
   "execution_count": 12,
   "id": "64b7d0bc",
   "metadata": {
    "ExecuteTime": {
     "end_time": "2021-07-30T00:35:10.372434Z",
     "start_time": "2021-07-30T00:35:10.306516Z"
    }
   },
   "outputs": [],
   "source": [
    "X_train, X_holdout, y_train, y_holdout = train_test_split(X, y, stratify=y, test_size=0.2, random_state=seed)"
   ]
  },
  {
   "cell_type": "markdown",
   "id": "637a0d38",
   "metadata": {},
   "source": [
    "## Estimando modelo de Random Forests\n",
    "\n",
    "Com esse modelo, esperamos ter uma medida de comparação de um modelo de ensemble em relação ao modelo de Decision Trees tradicional.\n",
    "\n",
    "-----\n",
    "\n",
    "É importante, nesse passo, discutir qual métrica utilizar para avaliar o modelo, levando em consideração o desbalanceamento observado da amostra. \n",
    "\n",
    "Duas candidatas razoáveis são: `ROC AUC Score` e `f1`.\n",
    "\n",
    "Analisando o problema de negócio sob a ótica do Banco (agente que vai conceder o empréstimo), queremos evitar duas situações: \n",
    "\n",
    "1. Emprestar erroneamente recursos para um cliente classificado como de baixo risco, enquanto que, na verdade, o cliente é de alto risco (**Falso Positivo**).\n",
    "2. Não conceder crédito a um cliente de baixo risco classificado erroneamente como de alto risco. (**Falso Negativo**)\n",
    "\n",
    "**Raciocínio:** Em outras palavras, estamos interessados em reduzir, ao máximo, o número de Falsos Positivos e Falsos Negativos.\n",
    "\n",
    "\n",
    "-----\n",
    "<font color='red'>**OBS:**</font>\n",
    "No entanto, devemos atentar para o fato de que, em um dataset desbalanceado, o número de verdadeiros positivos tende a ser superestimado. Logo, a métrica `roc_auc_score` pode não ser a mais adequada para este problema devido à possibilidade de esta ser superestimada. \n",
    "\n",
    "Sendo assim, vamos prosseguir a análise utilizando a métrica `f1` para priorizar `precision` e `recall`.\n",
    "\n",
    "$$ \n",
    "F_{\\beta} = (1+\\beta^2)\\frac{precicion*recall}{\\beta^2 * precision + recall}\n",
    "$$\n",
    "\n",
    "$$\n",
    "precision = \\frac{tp}{tp + fp},~~recall=\\frac{tn}{tn+fp}\n",
    "$$"
   ]
  },
  {
   "cell_type": "code",
   "execution_count": 13,
   "id": "2a03e21e",
   "metadata": {
    "ExecuteTime": {
     "end_time": "2021-07-30T00:35:10.447821Z",
     "start_time": "2021-07-30T00:35:10.374707Z"
    }
   },
   "outputs": [],
   "source": [
    "# grid de parâmetros\n",
    "param_grid={\"max_depth\":[*range(1, 13, 1)],\n",
    "            \"n_estimators\":[*range(50, 301, 50)],\n",
    "            #\"min_samples_leaf\":np.linspace(0.2, 1.2, 6),\n",
    "            \"criterion\":[\"gini\", \"entropy\"], \n",
    "            \"class_weight\":[None,\"balanced\"]}"
   ]
  },
  {
   "cell_type": "code",
   "execution_count": 14,
   "id": "d53ae403",
   "metadata": {
    "ExecuteTime": {
     "end_time": "2021-07-30T00:38:32.606551Z",
     "start_time": "2021-07-30T00:35:10.450165Z"
    }
   },
   "outputs": [
    {
     "name": "stdout",
     "output_type": "stream",
     "text": [
      "Fitting 3 folds for each of 288 candidates, totalling 864 fits\n"
     ]
    }
   ],
   "source": [
    "#%%capture --no-display\n",
    "# capturando warnings\n",
    "\n",
    "start_train_time = datetime.now()\n",
    "\n",
    "rf = RandomForestClassifier(oob_score=False, random_state= seed, n_jobs=-1)\n",
    "rf_cv = GridSearchCV(rf, param_grid, cv=3, scoring='f1', verbose=1)  # 3 fold devido ao número de registros\n",
    "rf_cv.fit(X_train, y_train)\n",
    "\n",
    "end_train_time = datetime.now()\n",
    "\n",
    "train_time = end_train_time - start_train_time"
   ]
  },
  {
   "cell_type": "code",
   "execution_count": 15,
   "id": "cecfdd90",
   "metadata": {
    "ExecuteTime": {
     "end_time": "2021-07-30T00:38:32.613435Z",
     "start_time": "2021-07-30T00:38:32.608668Z"
    }
   },
   "outputs": [
    {
     "name": "stdout",
     "output_type": "stream",
     "text": [
      "Logistic Regression best params: {'class_weight': 'balanced', 'criterion': 'entropy', 'max_depth': 6, 'n_estimators': 50}\n",
      "Logistic Regression best F1 score: 0.6009158604335004\n"
     ]
    }
   ],
   "source": [
    "print('Logistic Regression best params:', rf_cv.best_params_)\n",
    "print('Logistic Regression best F1 score:', rf_cv.best_score_)"
   ]
  },
  {
   "cell_type": "markdown",
   "id": "8fb6d8b2",
   "metadata": {},
   "source": [
    "### Avaliando o modelo de Random Forest\n",
    "\n",
    "vamos começar avaliando o modelo no conjunto holdout"
   ]
  },
  {
   "cell_type": "code",
   "execution_count": 16,
   "id": "a7b69e6e",
   "metadata": {
    "ExecuteTime": {
     "end_time": "2021-07-30T00:38:32.749936Z",
     "start_time": "2021-07-30T00:38:32.616261Z"
    }
   },
   "outputs": [],
   "source": [
    "start_eval_time = datetime.now()\n",
    "\n",
    "y_pred = rf_cv.predict(X_holdout)  # calculando previsões com threshold de treino\n",
    "y_pred_proba = rf_cv.predict_proba(X_holdout)[:,1]  # calculando probabilidades\n",
    "\n",
    "end_eval_time = datetime.now()\n",
    "\n",
    "eval_time = end_eval_time - start_eval_time"
   ]
  },
  {
   "cell_type": "markdown",
   "id": "8184974a",
   "metadata": {},
   "source": [
    "#### Matriz de Confusão e Relatório de Classificação\n",
    "\n",
    "Na matriz de confusão, temos as seguintes informações: \n",
    "\n",
    "$\n",
    "\\left[\n",
    "  \\begin{matrix}\n",
    "   tp & fp  \\\\\n",
    "   fn & tn  \n",
    "  \\end{matrix} \n",
    "\\right]\n",
    "  = \n",
    "\\left[\n",
    "  \\begin{matrix}\n",
    "   true~positives & false~positives  \\\\\n",
    "   false~negatives & true~negatives  \n",
    "  \\end{matrix}\n",
    "\\right]\n",
    "$"
   ]
  },
  {
   "cell_type": "code",
   "execution_count": 17,
   "id": "a52d2699",
   "metadata": {
    "ExecuteTime": {
     "end_time": "2021-07-30T00:38:32.756550Z",
     "start_time": "2021-07-30T00:38:32.751762Z"
    }
   },
   "outputs": [
    {
     "name": "stdout",
     "output_type": "stream",
     "text": [
      "[[111  29]\n",
      " [ 18  42]]\n"
     ]
    }
   ],
   "source": [
    "print(confusion_matrix(y_holdout, y_pred))"
   ]
  },
  {
   "cell_type": "code",
   "execution_count": 18,
   "id": "ee0a5ead",
   "metadata": {
    "ExecuteTime": {
     "end_time": "2021-07-30T00:38:32.874694Z",
     "start_time": "2021-07-30T00:38:32.758845Z"
    }
   },
   "outputs": [
    {
     "name": "stdout",
     "output_type": "stream",
     "text": [
      "              precision    recall  f1-score   support\n",
      "\n",
      "           0       0.86      0.79      0.83       140\n",
      "           1       0.59      0.70      0.64        60\n",
      "\n",
      "    accuracy                           0.77       200\n",
      "   macro avg       0.73      0.75      0.73       200\n",
      "weighted avg       0.78      0.77      0.77       200\n",
      "\n"
     ]
    }
   ],
   "source": [
    "print(classification_report(y_holdout, y_pred))"
   ]
  },
  {
   "cell_type": "markdown",
   "id": "86e0e892",
   "metadata": {},
   "source": [
    "#### Curva ROC\n",
    "\n",
    "Na presente aplicação, a curva ROC se faz relevante pois tende a ser insensível a conjuntos de dados com proporções de classes desbalanceadas. \n",
    "\n",
    "Isto posto, a área abaixo da curva ROC é uma importante métrica para avaliar o desempenho do modelo.\n",
    "\n",
    "----\n",
    "\n",
    "Vamos começar calculando as taxas de verdadeiros positivos e falsos positivos."
   ]
  },
  {
   "cell_type": "code",
   "execution_count": 19,
   "id": "5e45e2d4",
   "metadata": {
    "ExecuteTime": {
     "end_time": "2021-07-30T00:38:32.934757Z",
     "start_time": "2021-07-30T00:38:32.878263Z"
    }
   },
   "outputs": [],
   "source": [
    "false_pos_rate, true_pos_rate, thresholds = roc_curve(y_holdout, y_pred_proba)"
   ]
  },
  {
   "cell_type": "code",
   "execution_count": 20,
   "id": "33ae24fd",
   "metadata": {
    "ExecuteTime": {
     "end_time": "2021-07-30T00:38:33.281292Z",
     "start_time": "2021-07-30T00:38:32.937931Z"
    }
   },
   "outputs": [
    {
     "data": {
      "text/plain": [
       "Text(0, 0.5, 'Taxa de Verdadeiros Positivos')"
      ]
     },
     "execution_count": 20,
     "metadata": {},
     "output_type": "execute_result"
    },
    {
     "data": {
      "image/png": "[encoded data removed]",
      "text/plain": [
       "<Figure size 432x288 with 1 Axes>"
      ]
     },
     "metadata": {},
     "output_type": "display_data"
    }
   ],
   "source": [
    "plt.plot(false_pos_rate, true_pos_rate)\n",
    "\n",
    "# labels\n",
    "plt.title('Curva ROC')\n",
    "plt.xlabel('Taxa de Falsos Positivos')\n",
    "plt.ylabel('Taxa de Verdadeiros Positivos')"
   ]
  },
  {
   "cell_type": "code",
   "execution_count": 21,
   "id": "4ca0cbc9",
   "metadata": {
    "ExecuteTime": {
     "end_time": "2021-07-30T00:38:33.288959Z",
     "start_time": "2021-07-30T00:38:33.282961Z"
    }
   },
   "outputs": [
    {
     "name": "stdout",
     "output_type": "stream",
     "text": [
      "ROC AUC score: 0.7464285714285713\n"
     ]
    }
   ],
   "source": [
    "auc_score = roc_auc_score(y_holdout, y_pred)\n",
    "print('ROC AUC score:', auc_score)"
   ]
  },
  {
   "cell_type": "markdown",
   "id": "464960fb",
   "metadata": {},
   "source": [
    "#### feature importance"
   ]
  },
  {
   "cell_type": "code",
   "execution_count": 22,
   "id": "f5df1b38",
   "metadata": {
    "ExecuteTime": {
     "end_time": "2021-07-30T00:38:33.367380Z",
     "start_time": "2021-07-30T00:38:33.290664Z"
    }
   },
   "outputs": [],
   "source": [
    "best_dt = rf_cv.best_estimator_"
   ]
  },
  {
   "cell_type": "code",
   "execution_count": 23,
   "id": "7189da8d",
   "metadata": {
    "ExecuteTime": {
     "end_time": "2021-07-30T00:38:33.436299Z",
     "start_time": "2021-07-30T00:38:33.371484Z"
    }
   },
   "outputs": [],
   "source": [
    "feature_importance = pd.DataFrame({\n",
    "    'features':X.columns,\n",
    "    'importance':best_dt.feature_importances_\n",
    "})"
   ]
  },
  {
   "cell_type": "code",
   "execution_count": 24,
   "id": "59830b57",
   "metadata": {
    "ExecuteTime": {
     "end_time": "2021-07-30T00:38:33.476366Z",
     "start_time": "2021-07-30T00:38:33.441222Z"
    }
   },
   "outputs": [
    {
     "data": {
      "text/html": [
       "<div>\n",
       "<style scoped>\n",
       "    .dataframe tbody tr th:only-of-type {\n",
       "        vertical-align: middle;\n",
       "    }\n",
       "\n",
       "    .dataframe tbody tr th {\n",
       "        vertical-align: top;\n",
       "    }\n",
       "\n",
       "    .dataframe thead th {\n",
       "        text-align: right;\n",
       "    }\n",
       "</style>\n",
       "<table border=\"1\" class=\"dataframe\">\n",
       "  <thead>\n",
       "    <tr style=\"text-align: right;\">\n",
       "      <th></th>\n",
       "      <th>features</th>\n",
       "      <th>importance</th>\n",
       "    </tr>\n",
       "  </thead>\n",
       "  <tbody>\n",
       "    <tr>\n",
       "      <th>0</th>\n",
       "      <td>status_check_acc</td>\n",
       "      <td>0.202206</td>\n",
       "    </tr>\n",
       "    <tr>\n",
       "      <th>4</th>\n",
       "      <td>cred_amount</td>\n",
       "      <td>0.127560</td>\n",
       "    </tr>\n",
       "    <tr>\n",
       "      <th>1</th>\n",
       "      <td>duration</td>\n",
       "      <td>0.112991</td>\n",
       "    </tr>\n",
       "    <tr>\n",
       "      <th>11</th>\n",
       "      <td>age</td>\n",
       "      <td>0.082279</td>\n",
       "    </tr>\n",
       "    <tr>\n",
       "      <th>5</th>\n",
       "      <td>savings</td>\n",
       "      <td>0.062725</td>\n",
       "    </tr>\n",
       "    <tr>\n",
       "      <th>2</th>\n",
       "      <td>cred_history</td>\n",
       "      <td>0.046737</td>\n",
       "    </tr>\n",
       "    <tr>\n",
       "      <th>6</th>\n",
       "      <td>employment_since</td>\n",
       "      <td>0.042990</td>\n",
       "    </tr>\n",
       "    <tr>\n",
       "      <th>3</th>\n",
       "      <td>purpose</td>\n",
       "      <td>0.039734</td>\n",
       "    </tr>\n",
       "    <tr>\n",
       "      <th>10</th>\n",
       "      <td>property</td>\n",
       "      <td>0.036954</td>\n",
       "    </tr>\n",
       "    <tr>\n",
       "      <th>7</th>\n",
       "      <td>installment</td>\n",
       "      <td>0.034095</td>\n",
       "    </tr>\n",
       "  </tbody>\n",
       "</table>\n",
       "</div>"
      ],
      "text/plain": [
       "            features  importance\n",
       "0   status_check_acc    0.202206\n",
       "4        cred_amount    0.127560\n",
       "1           duration    0.112991\n",
       "11               age    0.082279\n",
       "5            savings    0.062725\n",
       "2       cred_history    0.046737\n",
       "6   employment_since    0.042990\n",
       "3            purpose    0.039734\n",
       "10          property    0.036954\n",
       "7        installment    0.034095"
      ]
     },
     "execution_count": 24,
     "metadata": {},
     "output_type": "execute_result"
    }
   ],
   "source": [
    "# top 10 features mais importantes para Decision Tree com critério de gini\n",
    "feature_importance.sort_values('importance', ascending=False).head(10)"
   ]
  },
  {
   "cell_type": "markdown",
   "id": "4986f609",
   "metadata": {},
   "source": [
    "## Sintetizando métricas e exportando modelo\n",
    "\n",
    "Avaliando e exportando métricas no conjunto holdout"
   ]
  },
  {
   "cell_type": "markdown",
   "id": "5688d28e",
   "metadata": {},
   "source": [
    "### Mean Squared Error\n",
    "\n",
    "Para comparação com outros modelos"
   ]
  },
  {
   "cell_type": "code",
   "execution_count": 25,
   "id": "a1ba25ea",
   "metadata": {
    "ExecuteTime": {
     "end_time": "2021-07-30T00:38:33.518627Z",
     "start_time": "2021-07-30T00:38:33.480016Z"
    }
   },
   "outputs": [],
   "source": [
    "mse = MSE(y_holdout, y_pred)\n",
    "rmse = mse**(1/2)"
   ]
  },
  {
   "cell_type": "markdown",
   "id": "63361a01",
   "metadata": {},
   "source": [
    "### Exportando métricas"
   ]
  },
  {
   "cell_type": "code",
   "execution_count": 26,
   "id": "1ae3d4fb",
   "metadata": {
    "ExecuteTime": {
     "end_time": "2021-07-30T00:38:33.575493Z",
     "start_time": "2021-07-30T00:38:33.522574Z"
    }
   },
   "outputs": [],
   "source": [
    "precision = precision_score(y_holdout, y_pred)\n",
    "recall = recall_score(y_holdout, y_pred)\n",
    "accuracy = accuracy_score(y_holdout, y_pred)\n",
    "balanced_accuracy = balanced_accuracy_score(y_holdout, y_pred)\n",
    "f1 = f1_score(y_holdout, y_pred)\n",
    "\n",
    "# confusion_matrix\n",
    "matrix = confusion_matrix(y_holdout, y_pred)"
   ]
  },
  {
   "cell_type": "code",
   "execution_count": 27,
   "id": "af945bae",
   "metadata": {
    "ExecuteTime": {
     "end_time": "2021-07-30T00:38:33.642929Z",
     "start_time": "2021-07-30T00:38:33.577411Z"
    }
   },
   "outputs": [],
   "source": [
    "metrics_dict = {\n",
    "    'precision'        : precision,\n",
    "    'recall'           : recall,\n",
    "    'accuracy'         : accuracy,\n",
    "    'balanced_accuracy': balanced_accuracy,\n",
    "    'f1_holdout'       : f1,\n",
    "    'f1_train'         : rf_cv.best_score_,\n",
    "    'roc_auc_score'    : auc_score,\n",
    "    'confusion_matrix' : matrix,\n",
    "    'train_time'       : train_time,\n",
    "    'eval_time'        : eval_time\n",
    "}"
   ]
  },
  {
   "cell_type": "markdown",
   "id": "a1a1c59c",
   "metadata": {},
   "source": [
    "### Exportando métricas"
   ]
  },
  {
   "cell_type": "code",
   "execution_count": 28,
   "id": "82cde866",
   "metadata": {
    "ExecuteTime": {
     "end_time": "2021-07-30T00:38:33.800835Z",
     "start_time": "2021-07-30T00:38:33.647165Z"
    }
   },
   "outputs": [],
   "source": [
    "with open(f'{outpath}/random_forest_holdout_metrics.pickle', 'wb') as file:\n",
    "    pickle.dump(metrics_dict, file)"
   ]
  },
  {
   "cell_type": "markdown",
   "id": "321dcb9e",
   "metadata": {},
   "source": [
    "### Exportando modelo"
   ]
  },
  {
   "cell_type": "code",
   "execution_count": 29,
   "id": "dfe765a3",
   "metadata": {
    "ExecuteTime": {
     "end_time": "2021-07-30T00:38:33.867960Z",
     "start_time": "2021-07-30T00:38:33.808781Z"
    }
   },
   "outputs": [],
   "source": [
    "best_model = rf_cv.best_estimator_"
   ]
  },
  {
   "cell_type": "code",
   "execution_count": 30,
   "id": "31c4666c",
   "metadata": {
    "ExecuteTime": {
     "end_time": "2021-07-30T00:38:33.941038Z",
     "start_time": "2021-07-30T00:38:33.872112Z"
    }
   },
   "outputs": [],
   "source": [
    "with open(f'{outpath}/random_forest.pickle', 'wb') as file:\n",
    "    pickle.dump(best_model, file)"
   ]
  },
  {
   "cell_type": "markdown",
   "id": "493e8e77",
   "metadata": {},
   "source": [
    "**Fim!**"
   ]
  }
 ],
 "metadata": {
  "kernelspec": {
   "display_name": "Python 3",
   "language": "python",
   "name": "python3"
  },
  "language_info": {
   "codemirror_mode": {
    "name": "ipython",
    "version": 3
   },
   "file_extension": ".py",
   "mimetype": "text/x-python",
   "name": "python",
   "nbconvert_exporter": "python",
   "pygments_lexer": "ipython3",
   "version": "3.9.5"
  },
  "toc": {
   "base_numbering": 1,
   "nav_menu": {},
   "number_sections": true,
   "sideBar": true,
   "skip_h1_title": false,
   "title_cell": "Table of Contents",
   "title_sidebar": "Contents",
   "toc_cell": false,
   "toc_position": {},
   "toc_section_display": true,
   "toc_window_display": false
  },
  "varInspector": {
   "cols": {
    "lenName": 16,
    "lenType": 16,
    "lenVar": 40
   },
   "kernels_config": {
    "python": {
     "delete_cmd_postfix": "",
     "delete_cmd_prefix": "del ",
     "library": "var_list.py",
     "varRefreshCmd": "print(var_dic_list())"
    },
    "r": {
     "delete_cmd_postfix": ") ",
     "delete_cmd_prefix": "rm(",
     "library": "var_list.r",
     "varRefreshCmd": "cat(var_dic_list()) "
    }
   },
   "types_to_exclude": [
    "module",
    "function",
    "builtin_function_or_method",
    "instance",
    "_Feature"
   ],
   "window_display": false
  }
 },
 "nbformat": 4,
 "nbformat_minor": 5
}
